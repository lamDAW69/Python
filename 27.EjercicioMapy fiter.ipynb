{
 "cells": [
  {
   "cell_type": "code",
   "execution_count": 20,
   "metadata": {},
   "outputs": [
    {
     "name": "stdout",
     "output_type": "stream",
     "text": [
      "['silla', 'mesa']\n",
      "1600\n"
     ]
    }
   ],
   "source": [
    "from functools import reduce\n",
    "\n",
    "\n",
    "listado_productos = [\n",
    "    {\"nombre\": \"silla\", \"precio\": 50, \"favorito\": True, \"stock\": 10},\n",
    "    {\"nombre\": \"mesa\", \"precio\": 100, \"favorito\": True, \"stock\": 5},\n",
    "    {\"nombre\": \"lampara\", \"precio\": 30, \"favorito\": False, \"stock\": 20}\n",
    "]\n",
    "\n",
    "fav = list(filter(lambda x: x[\"favorito\"] == True, listado_productos))\n",
    "fav_nombre = list(map(lambda x: x[\"nombre\"], fav))                      #filter y map\n",
    "\n",
    "listas = [producto[\"nombre\"] for producto in listado_productos if producto[\"favorito\"] == True] #Con listas de compresión\n",
    "print(listas)\n",
    "\n",
    "valor_total = reduce(lambda total, producto: total + producto[\"precio\"] * producto[\"stock\"], listado_productos, 0)\n",
    "print(valor_total)\n",
    "\n",
    "\n",
    "\n",
    "\n"
   ]
  },
  {
   "cell_type": "markdown",
   "metadata": {},
   "source": [
    "Crea una lista de diccionarios. Cada diccionario tendrá los datos de un\n",
    "producto: nombre, precio, stock (entero) y favorito (booleano)\n",
    "\n",
    "\n",
    "● Imprime la lista de los nombres de los productos favoritos. Utiliza filter y\n",
    "map. Resuélvelo después con listas por comprensión.\n",
    "● Imprime el valor total de todos los productos (suma de precio*stock). Utiliza\n",
    "la función reduce."
   ]
  }
 ],
 "metadata": {
  "kernelspec": {
   "display_name": "base",
   "language": "python",
   "name": "python3"
  },
  "language_info": {
   "codemirror_mode": {
    "name": "ipython",
    "version": 3
   },
   "file_extension": ".py",
   "mimetype": "text/x-python",
   "name": "python",
   "nbconvert_exporter": "python",
   "pygments_lexer": "ipython3",
   "version": "3.12.4"
  }
 },
 "nbformat": 4,
 "nbformat_minor": 2
}

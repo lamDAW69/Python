{
 "cells": [
  {
   "cell_type": "code",
   "execution_count": 13,
   "metadata": {},
   "outputs": [
    {
     "name": "stdout",
     "output_type": "stream",
     "text": [
      "Antonio nota media: 8.25\n",
      "María nota media: 7.25\n",
      "Juan nota media: 6.50\n"
     ]
    }
   ],
   "source": [
    "alumnos = [\"Antonio\", \"María\", \"Juan\"]\n",
    "notas = [\n",
    "    [8, 9, 7, 9],  \n",
    "    [8, 7, 9, 5],  \n",
    "    [1, 9, 8, 8],  \n",
    "]\n",
    "for i in range(len(alumnos)):\n",
    "    print(f\"{alumnos[i]} nota media: {sum(notas[i]) / len(notas[i]):.2f}\")\n",
    "    \n"
   ]
  }
 ],
 "metadata": {
  "kernelspec": {
   "display_name": "base",
   "language": "python",
   "name": "python3"
  },
  "language_info": {
   "codemirror_mode": {
    "name": "ipython",
    "version": 3
   },
   "file_extension": ".py",
   "mimetype": "text/x-python",
   "name": "python",
   "nbconvert_exporter": "python",
   "pygments_lexer": "ipython3",
   "version": "3.12.4"
  }
 },
 "nbformat": 4,
 "nbformat_minor": 2
}

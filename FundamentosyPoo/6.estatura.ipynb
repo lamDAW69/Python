{
 "cells": [
  {
   "cell_type": "code",
   "execution_count": 2,
   "metadata": {},
   "outputs": [
    {
     "name": "stdout",
     "output_type": "stream",
     "text": [
      "Es necesario que utilice sistema de retención infantil\n"
     ]
    }
   ],
   "source": [
    "altura = int(input(\"Indique la altura en centimetros por favor\"));\n",
    "\n",
    "if altura >= 135: \n",
    "    print(\"No es necesario que utilice sistema de retención infantil\") ;\n",
    "else:\n",
    "    print(\"Es necesario que utilice sistema de retención infantil\") ;\n",
    "\n"
   ]
  }
 ],
 "metadata": {
  "kernelspec": {
   "display_name": "base",
   "language": "python",
   "name": "python3"
  },
  "language_info": {
   "codemirror_mode": {
    "name": "ipython",
    "version": 3
   },
   "file_extension": ".py",
   "mimetype": "text/x-python",
   "name": "python",
   "nbconvert_exporter": "python",
   "pygments_lexer": "ipython3",
   "version": "3.12.4"
  }
 },
 "nbformat": 4,
 "nbformat_minor": 2
}

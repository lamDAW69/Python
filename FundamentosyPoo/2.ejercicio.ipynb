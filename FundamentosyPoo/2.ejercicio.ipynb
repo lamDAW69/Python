{
 "cells": [
  {
   "cell_type": "code",
   "execution_count": 18,
   "metadata": {},
   "outputs": [
    {
     "name": "stdout",
     "output_type": "stream",
     "text": [
      " Matematicas   3.0\n",
      "      Lengua   7.5\n",
      "     Quimica  10.0\n",
      "****************************\n",
      "      Media:  6.83\n"
     ]
    }
   ],
   "source": [
    "asignaturas = {'Matematicas': 3, 'Lengua': 7.5, 'Quimica': 10}\n",
    "\n",
    "media = sum(asignaturas.values()) / len(asignaturas)\n",
    "\n",
    "\n",
    "for x, y in asignaturas.items():\n",
    "    print(f\"{x:>12} {y:>5.1f}\")\n",
    "\n",
    "print(\"*\" * 28)\n",
    "print(f\"{'Media:':>12} {media:>5.2f}\")\n"
   ]
  },
  {
   "cell_type": "code",
   "execution_count": null,
   "metadata": {},
   "outputs": [],
   "source": []
  }
 ],
 "metadata": {
  "kernelspec": {
   "display_name": "base",
   "language": "python",
   "name": "python3"
  },
  "language_info": {
   "codemirror_mode": {
    "name": "ipython",
    "version": 3
   },
   "file_extension": ".py",
   "mimetype": "text/x-python",
   "name": "python",
   "nbconvert_exporter": "python",
   "pygments_lexer": "ipython3",
   "version": "3.12.4"
  }
 },
 "nbformat": 4,
 "nbformat_minor": 2
}

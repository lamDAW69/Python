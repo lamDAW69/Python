{
 "cells": [
  {
   "cell_type": "code",
   "execution_count": 11,
   "metadata": {},
   "outputs": [],
   "source": [
    "frutas =  [\"Melón\", \"Lentejas\", \"Patatas\"]\n",
    "with open(\"frutas.txt\", \"w\") as f: \n",
    "    f.write(\"\\n\".join(frutas))\n",
    "    \n"
   ]
  },
  {
   "cell_type": "markdown",
   "metadata": {},
   "source": [
    "Crea un programa que vaya leyendo lo que el usuario escribe en consola y\n",
    "lo escriba en un fichero (línea a línea). Terminará cuando el usuario escriba\n",
    "la palabra ‘FIN’."
   ]
  },
  {
   "cell_type": "code",
   "execution_count": 12,
   "metadata": {},
   "outputs": [
    {
     "name": "stdout",
     "output_type": "stream",
     "text": [
      "Texto añadido\n",
      "Texto añadido\n",
      "Texto añadido\n",
      "Texto añadido\n",
      "Texto añadido\n"
     ]
    },
    {
     "ename": "",
     "evalue": "",
     "output_type": "error",
     "traceback": [
      "\u001b[1;31mEl kernel se bloqueó al ejecutar código en la celda actual o en una celda anterior. \n",
      "\u001b[1;31mRevise el código de las celdas para identificar una posible causa del error. \n",
      "\u001b[1;31mHaga clic <a href='https://aka.ms/vscodeJupyterKernelCrash'>aquí</a> para obtener más información. \n",
      "\u001b[1;31mVea Jupyter <a href='command:jupyter.viewOutput'>log</a> para obtener más detalles."
     ]
    }
   ],
   "source": [
    "with open(\"frutas.txt\", \"a\") as f:\n",
    "    continuar = True;\n",
    "    while continuar: \n",
    "        input_usuario = input(\"Introduce un texto: \")\n",
    "        if input_usuario == \"FIN\": \n",
    "            continuar = False\n",
    "        else:\n",
    "            f.write(input_usuario + \"\\n\")\n",
    "            print(\"Texto añadido\")"
   ]
  }
 ],
 "metadata": {
  "kernelspec": {
   "display_name": "base",
   "language": "python",
   "name": "python3"
  },
  "language_info": {
   "codemirror_mode": {
    "name": "ipython",
    "version": 3
   },
   "file_extension": ".py",
   "mimetype": "text/x-python",
   "name": "python",
   "nbconvert_exporter": "python",
   "pygments_lexer": "ipython3",
   "version": "3.12.4"
  }
 },
 "nbformat": 4,
 "nbformat_minor": 2
}

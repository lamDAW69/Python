{
 "cells": [
  {
   "cell_type": "code",
   "execution_count": 10,
   "metadata": {},
   "outputs": [
    {
     "name": "stdout",
     "output_type": "stream",
     "text": [
      "Antonio: 8.00\n",
      "Maria: 7.00\n",
      "Juan: 9.33\n",
      "Laura: 7.00\n"
     ]
    }
   ],
   "source": [
    "\n",
    "notas = {\n",
    "    \"Antonio\": [7, 8, 9],\n",
    "    \"Maria\": [6, 7, 8],\n",
    "    \"Juan\": [9, 9, 10],\n",
    "    \"Laura\": [8, 7, 6]\n",
    "}\n",
    "\n",
    "for alumno, lista_notas in notas.items():\n",
    "    media = sum(lista_notas) / len(lista_notas)\n",
    "    print(f\"{alumno}: {media:.2f}\") "
   ]
  },
  {
   "cell_type": "markdown",
   "metadata": {},
   "source": []
  }
 ],
 "metadata": {
  "kernelspec": {
   "display_name": "base",
   "language": "python",
   "name": "python3"
  },
  "language_info": {
   "codemirror_mode": {
    "name": "ipython",
    "version": 3
   },
   "file_extension": ".py",
   "mimetype": "text/x-python",
   "name": "python",
   "nbconvert_exporter": "python",
   "pygments_lexer": "ipython3",
   "version": "3.12.4"
  }
 },
 "nbformat": 4,
 "nbformat_minor": 2
}

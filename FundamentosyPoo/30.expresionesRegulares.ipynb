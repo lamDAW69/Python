{
 "cells": [
  {
   "cell_type": "code",
   "execution_count": 1,
   "metadata": {},
   "outputs": [
    {
     "name": "stdout",
     "output_type": "stream",
     "text": [
      "2022-12-25, 2023-01-31, 2023-02-15\n"
     ]
    }
   ],
   "source": [
    "import re\n",
    "\n",
    "# Previous string with dates in dd/mm/yyyy format\n",
    "previous_string = \"25/12/2022, 31/01/2023, 15/02/2023\"\n",
    "\n",
    "# Regular expression pattern to match dates in dd/mm/yyyy format\n",
    "pattern = r\"\\b(\\d{2})/(\\d{2})/(\\d{4})\\b\"\n",
    "\n",
    "# Function to convert date format from dd/mm/yyyy to yyyy-mm-dd\n",
    "def convert_date_format(match):\n",
    "    day = match.group(1)\n",
    "    month = match.group(2)\n",
    "    year = match.group(3)\n",
    "    return f\"{year}-{month}-{day}\"\n",
    "\n",
    "# Use regular expression substitution to convert date format\n",
    "new_string = re.sub(pattern, convert_date_format, previous_string)\n",
    "\n",
    "print(new_string)"
   ]
  },
  {
   "cell_type": "markdown",
   "metadata": {},
   "source": [
    "A partir de la cadena del ejercicio anterior (contiene 3 fechas en formato\n",
    "dd/mm/yyyy), crea otra cadena con las fechas en formato yyyy-mm-dd\n",
    "– Utiliza solo métodos de expresiones regulares para ello"
   ]
  }
 ],
 "metadata": {
  "kernelspec": {
   "display_name": "base",
   "language": "python",
   "name": "python3"
  },
  "language_info": {
   "codemirror_mode": {
    "name": "ipython",
    "version": 3
   },
   "file_extension": ".py",
   "mimetype": "text/x-python",
   "name": "python",
   "nbconvert_exporter": "python",
   "pygments_lexer": "ipython3",
   "version": "3.12.4"
  }
 },
 "nbformat": 4,
 "nbformat_minor": 2
}

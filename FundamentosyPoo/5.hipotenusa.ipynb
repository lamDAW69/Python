{
 "cells": [
  {
   "cell_type": "code",
   "execution_count": 8,
   "metadata": {},
   "outputs": [
    {
     "name": "stdout",
     "output_type": "stream",
     "text": [
      "La hipotenusa mide: 2.8284271247461903\n"
     ]
    }
   ],
   "source": [
    "a = float(input(\"Ingrese el valor del cateto a: \"))\n",
    "b = float(input(\"Ingrese el valor del cateto b: \"))\n",
    "\n",
    "h_cuadrado = a**2 + b**2\n",
    "hipotenusa = h_cuadrado**0.5\n",
    "\n",
    "print(f\"La hipotenusa mide: {hipotenusa}\")\n"
   ]
  }
 ],
 "metadata": {
  "kernelspec": {
   "display_name": "base",
   "language": "python",
   "name": "python3"
  },
  "language_info": {
   "codemirror_mode": {
    "name": "ipython",
    "version": 3
   },
   "file_extension": ".py",
   "mimetype": "text/x-python",
   "name": "python",
   "nbconvert_exporter": "python",
   "pygments_lexer": "ipython3",
   "version": "3.12.4"
  }
 },
 "nbformat": 4,
 "nbformat_minor": 2
}

{
 "cells": [
  {
   "cell_type": "code",
   "execution_count": 4,
   "metadata": {},
   "outputs": [
    {
     "name": "stdout",
     "output_type": "stream",
     "text": [
      "Este mes tiene 30 días\n"
     ]
    }
   ],
   "source": [
    "meses = input(\"Indica un mes, escribelo en minusculas\")\n",
    "\n",
    "match meses:\n",
    "    case \"enero\" | \"marzo\" | \"mayo\" | \"julio\" | \"agosto\" | \"octubre\" | \"diciembre\":\n",
    "        print(\"Este mes tiene 31 días\")\n",
    "    case \"abril\" | \"junio\" | \"septiembre\" | \"noviembre\":\n",
    "        print(\"Este mes tiene 30 días\")\n",
    "    case \"febrero\":\n",
    "        print(\"Este mes tiene 28 días\")\n",
    "    case _:\n",
    "        print(\"Mes no válido\")\n",
    "    "
   ]
  }
 ],
 "metadata": {
  "kernelspec": {
   "display_name": "base",
   "language": "python",
   "name": "python3"
  },
  "language_info": {
   "codemirror_mode": {
    "name": "ipython",
    "version": 3
   },
   "file_extension": ".py",
   "mimetype": "text/x-python",
   "name": "python",
   "nbconvert_exporter": "python",
   "pygments_lexer": "ipython3",
   "version": "3.12.4"
  }
 },
 "nbformat": 4,
 "nbformat_minor": 2
}

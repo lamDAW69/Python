{
 "cells": [
  {
   "cell_type": "code",
   "execution_count": 18,
   "metadata": {},
   "outputs": [
    {
     "name": "stdout",
     "output_type": "stream",
     "text": [
      "Nombre    Edad Fecha de nacimiento\n",
      "***********************************\n",
      "Luis      30  18/07/1993 (Sunday) \n",
      "Ana       28  22/03/1995 (Wednesday)\n",
      "Carlos    35  05/11/1989 (Sunday) \n",
      "María     40  14/01/1984 (Saturday)\n"
     ]
    }
   ],
   "source": [
    "from datetime import date, datetime\n",
    "\n",
    "# Crear la lista de diccionarios con información de personas\n",
    "personas = [\n",
    "    {\"nombre\": \"Luis\", \"edad\": 30, \"fecha_nacimiento\": date(1993, 7, 18)},\n",
    "    {\"nombre\": \"Ana\", \"edad\": 28, \"fecha_nacimiento\": date(1995, 3, 22)},\n",
    "    {\"nombre\": \"Carlos\", \"edad\": 35, \"fecha_nacimiento\": date(1989, 11, 5)},\n",
    "    {\"nombre\": \"María\", \"edad\": 40, \"fecha_nacimiento\": date(1984, 1, 14)},\n",
    "]\n",
    "\n",
    "# Función para formatear la fecha de nacimiento\n",
    "def formatear_fecha(fecha): \n",
    "    return fecha.strftime(\"%d/%m/%Y (%A)\")\n",
    "    \n",
    "print(\"Nombre    Edad Fecha de nacimiento\")\n",
    "print(\"*\" * 35)\n",
    "for persona in personas: \n",
    "    nombre = persona[\"nombre\"]\n",
    "    edad = persona[\"edad\"]\n",
    "    fecha_nacimiento = formatear_fecha(persona[\"fecha_nacimiento\"])\n",
    "    print(f\"{nombre:10}{edad:<4}{fecha_nacimiento:<20}\")\n"
   ]
  },
  {
   "cell_type": "markdown",
   "metadata": {},
   "source": [
    "Crea una lista de diccionarios que contengan la información de una persona\n",
    "(nombre, edad y fecha de nacimiento). Crea al menos 4 personas.\n",
    "\n",
    "– La fecha de nacimiento será un objeto date\n",
    "– Muestra la información de la lista formateada en una tabla. La fecha de\n",
    "nacimiento formateala como en el siguiente ejemplo: 10/05/1990 (jueves)"
   ]
  }
 ],
 "metadata": {
  "kernelspec": {
   "display_name": "base",
   "language": "python",
   "name": "python3"
  },
  "language_info": {
   "codemirror_mode": {
    "name": "ipython",
    "version": 3
   },
   "file_extension": ".py",
   "mimetype": "text/x-python",
   "name": "python",
   "nbconvert_exporter": "python",
   "pygments_lexer": "ipython3",
   "version": "3.12.4"
  }
 },
 "nbformat": 4,
 "nbformat_minor": 2
}

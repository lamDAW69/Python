{
 "cells": [
  {
   "cell_type": "code",
   "execution_count": 4,
   "metadata": {},
   "outputs": [
    {
     "name": "stdout",
     "output_type": "stream",
     "text": [
      "Número incorrecto, intenta de nuevo\n",
      "Número incorrecto, intenta de nuevo\n",
      "Número incorrecto, intenta de nuevo\n",
      "El número era:  3\n"
     ]
    }
   ],
   "source": [
    "import random\n",
    "\n",
    "nRandom = random.randint(1, 10)\n",
    "intentos = 0; \n",
    "correcto = False \n",
    "\n",
    "while (correcto == False and intentos < 3): \n",
    "    intentos += 1\n",
    "    numeroUsuario = int(input(\"Adivina el número entre 1 y 10: \"))\n",
    "    if(numeroUsuario == nRandom):\n",
    "        print(\"Felicidades, adivinaste el número\")\n",
    "        correcto = True\n",
    "    else:\n",
    "        print(\"Número incorrecto, intenta de nuevo\")\n",
    "\n",
    "print(\"El número era: \", nRandom)\n"
   ]
  }
 ],
 "metadata": {
  "kernelspec": {
   "display_name": "base",
   "language": "python",
   "name": "python3"
  },
  "language_info": {
   "codemirror_mode": {
    "name": "ipython",
    "version": 3
   },
   "file_extension": ".py",
   "mimetype": "text/x-python",
   "name": "python",
   "nbconvert_exporter": "python",
   "pygments_lexer": "ipython3",
   "version": "3.12.4"
  }
 },
 "nbformat": 4,
 "nbformat_minor": 2
}

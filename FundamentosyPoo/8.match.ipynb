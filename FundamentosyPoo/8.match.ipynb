{
 "cells": [
  {
   "cell_type": "code",
   "execution_count": 5,
   "metadata": {},
   "outputs": [
    {
     "name": "stdout",
     "output_type": "stream",
     "text": [
      "La suma de 5.0 y 5.0 es: 10.0\n"
     ]
    }
   ],
   "source": [
    "import builtins\n",
    "numero = float(builtins.input(\"Digite un número: \"))\n",
    "numero2 = float(builtins.input(\"Digite otro número: \"))\n",
    "operacion = int(builtins.input(\"Indique la operación que desea realizar  1-4:Sumar, Restar, Multiplicar y Dividir: \"))\n",
    "\n",
    "match operacion:\n",
    "    case 1:\n",
    "        print(f\"La suma de {numero} y {numero2} es: {numero + numero2}\")\n",
    "    case 2:\n",
    "        print(f\"La resta de {numero} y {numero2} es: {numero - numero2}\")\n",
    "    case 3:\n",
    "        print(f\"La multiplicación de {numero} y {numero2} es: {numero * numero2}\")\n",
    "    case 4:\n",
    "        if numero2 != 0:\n",
    "            print(f\"La división de {numero} y {numero2} es: {numero / numero2}\")\n",
    "        else:\n",
    "            print(\"No se puede dividir entre cero\")\n",
    "    case _:\n",
    "        print(\"Operación no válida\")"
   ]
  }
 ],
 "metadata": {
  "kernelspec": {
   "display_name": "base",
   "language": "python",
   "name": "python3"
  },
  "language_info": {
   "codemirror_mode": {
    "name": "ipython",
    "version": 3
   },
   "file_extension": ".py",
   "mimetype": "text/x-python",
   "name": "python",
   "nbconvert_exporter": "python",
   "pygments_lexer": "ipython3",
   "version": "3.12.4"
  }
 },
 "nbformat": 4,
 "nbformat_minor": 2
}

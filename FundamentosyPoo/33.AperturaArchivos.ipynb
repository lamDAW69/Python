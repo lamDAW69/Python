{
 "cells": [
  {
   "cell_type": "code",
   "execution_count": 5,
   "metadata": {},
   "outputs": [
    {
     "name": "stdout",
     "output_type": "stream",
     "text": [
      "se xasijdakl a\n",
      "dadas\n",
      "d ad\n",
      "as\n",
      "d\n",
      "a\n",
      "Hola mundo, \n",
      "que tal \n",
      "yo myt ibne \n",
      "psoe\n",
      "\n"
     ]
    }
   ],
   "source": [
    "import time \n",
    "f = open(\"/Users/Luis/Documents/numeros.txt\")\n",
    "print(f.read())\n",
    "f.close()\n",
    "\n",
    "with open(\"lectura.txt\") as f:\n",
    "    print(f.read())"
   ]
  },
  {
   "cell_type": "markdown",
   "metadata": {},
   "source": [
    "Para guardarlo en una lista"
   ]
  },
  {
   "cell_type": "code",
   "execution_count": 6,
   "metadata": {},
   "outputs": [
    {
     "name": "stdout",
     "output_type": "stream",
     "text": [
      "['Hola mundo,', 'que tal', 'yo myt ibne', 'psoe']\n"
     ]
    }
   ],
   "source": [
    "with open(\"lectura.txt\") as f:\n",
    "    lines = [lines.strip() for lines in f]  #strip() elimina los espacios en blanco\n",
    "    print(lines)"
   ]
  }
 ],
 "metadata": {
  "kernelspec": {
   "display_name": "base",
   "language": "python",
   "name": "python3"
  },
  "language_info": {
   "codemirror_mode": {
    "name": "ipython",
    "version": 3
   },
   "file_extension": ".py",
   "mimetype": "text/x-python",
   "name": "python",
   "nbconvert_exporter": "python",
   "pygments_lexer": "ipython3",
   "version": "3.12.4"
  }
 },
 "nbformat": 4,
 "nbformat_minor": 2
}

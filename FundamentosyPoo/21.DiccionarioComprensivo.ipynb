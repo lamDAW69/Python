{
 "cells": [
  {
   "cell_type": "code",
   "execution_count": 12,
   "metadata": {},
   "outputs": [
    {
     "name": "stdout",
     "output_type": "stream",
     "text": [
      "{'h': 1, 'o': 4}\n"
     ]
    }
   ],
   "source": [
    "# Solicitar al usuario que introduzca un string\n",
    "string = input(\"Indroduce un string: \")\n",
    "\n",
    "# Crear un diccionario para contar la frecuencia de cada carácter en el string\n",
    "char_count = {}\n",
    "\n",
    "# Iterar sobre cada carácter en el string\n",
    "for chart in string: \n",
    "    # Verificar si el carácter ya está en el diccionario\n",
    "    if chart in char_count:\n",
    "        # Si el carácter ya está en el diccionario, incrementar su contador en 1\n",
    "        char_count[chart] += 1\n",
    "    else: \n",
    "        # Si el carácter no está en el diccionario, agregarlo con un contador inicial de 1\n",
    "        char_count[chart] = 1\n",
    "\n",
    "# Imprimir el diccionario con la frecuencia de cada carácter\n",
    "print(char_count)"
   ]
  },
  {
   "cell_type": "markdown",
   "metadata": {},
   "source": []
  },
  {
   "cell_type": "code",
   "execution_count": null,
   "metadata": {},
   "outputs": [],
   "source": []
  }
 ],
 "metadata": {
  "kernelspec": {
   "display_name": "base",
   "language": "python",
   "name": "python3"
  },
  "language_info": {
   "codemirror_mode": {
    "name": "ipython",
    "version": 3
   },
   "file_extension": ".py",
   "mimetype": "text/x-python",
   "name": "python",
   "nbconvert_exporter": "python",
   "pygments_lexer": "ipython3",
   "version": "3.12.4"
  }
 },
 "nbformat": 4,
 "nbformat_minor": 2
}

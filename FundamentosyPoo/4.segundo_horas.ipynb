{
 "cells": [
  {
   "cell_type": "code",
   "execution_count": 1,
   "metadata": {},
   "outputs": [
    {
     "name": "stdout",
     "output_type": "stream",
     "text": [
      "55555 segundos son 15 horas, 25 minutos y 55 segundos\n"
     ]
    }
   ],
   "source": [
    "# Pedir al usuario una cantidad de segundos\n",
    "segundos_totales = int(input(\"Ingrese una cantidad grande de segundos: \"))\n",
    "\n",
    "\n",
    "horas = segundos_totales // 3600\n",
    "minutos = (segundos_totales % 3600) // 60\n",
    "segundos = segundos_totales % 60\n",
    "\n",
    "\n",
    "print(f\"{segundos_totales} segundos son {horas} horas, {minutos} minutos y {segundos} segundos\")\n"
   ]
  }
 ],
 "metadata": {
  "kernelspec": {
   "display_name": "base",
   "language": "python",
   "name": "python3"
  },
  "language_info": {
   "codemirror_mode": {
    "name": "ipython",
    "version": 3
   },
   "file_extension": ".py",
   "mimetype": "text/x-python",
   "name": "python",
   "nbconvert_exporter": "python",
   "pygments_lexer": "ipython3",
   "version": "3.12.4"
  }
 },
 "nbformat": 4,
 "nbformat_minor": 2
}

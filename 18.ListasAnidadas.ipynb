{
 "cells": [
  {
   "cell_type": "code",
   "execution_count": 6,
   "metadata": {},
   "outputs": [
    {
     "name": "stdout",
     "output_type": "stream",
     "text": [
      "Producto               Precio Cantidad        Total\n",
      "--------------------------------------------------\n",
      "Mesa                    99.50     3       298.50\n",
      "Silla                   14.95     4        59.80\n"
     ]
    }
   ],
   "source": [
    "productos = [[\"Mesa\", 99.5, 3] , [\"Silla\", 14.95, 4]]\n",
    "\n",
    "print(f\"{'Producto':20s} {'Precio':>8s} {'Cantidad':>5s} {'Total':>12s}\")\n",
    "print(\"-\" * 50)\n",
    "for nombre, precio, cantidad in productos:\n",
    "    total = precio * cantidad\n",
    "    print(f\"{nombre:20s} {precio:8.2f} {cantidad:5d} {total:12.2f}\")"
   ]
  }
 ],
 "metadata": {
  "kernelspec": {
   "display_name": "base",
   "language": "python",
   "name": "python3"
  },
  "language_info": {
   "codemirror_mode": {
    "name": "ipython",
    "version": 3
   },
   "file_extension": ".py",
   "mimetype": "text/x-python",
   "name": "python",
   "nbconvert_exporter": "python",
   "pygments_lexer": "ipython3",
   "version": "3.12.4"
  }
 },
 "nbformat": 4,
 "nbformat_minor": 2
}

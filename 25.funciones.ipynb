{
 "cells": [
  {
   "cell_type": "code",
   "execution_count": 17,
   "metadata": {},
   "outputs": [
    {
     "name": "stdout",
     "output_type": "stream",
     "text": [
      "5\n",
      "6\n",
      "7\n",
      "8\n",
      "9\n",
      "10\n"
     ]
    }
   ],
   "source": [
    "def Parametros(min=0, max=20):\n",
    "    for i in range(min, max+1):\n",
    "        print(i)\n",
    "\n",
    "Parametros(5, 10)"
   ]
  },
  {
   "cell_type": "markdown",
   "metadata": {},
   "source": [
    "Crea una función que reciba una cadena, un carácter de separación y un\n",
    "número n.\n",
    "– Por defecto el número n tendrá el valor 1\n",
    "- La función devolverá una cadena con el separador cada n caracteres (ten\n",
    "en cuenta que al insertar el separador, la siguiente posición se incrementa\n",
    "en 1.\n",
    "- Por ejemplo, si recibimos “Hay una mosca en mi sopa”, ‘*’ y 3,\n",
    "devolveremos: “Hay* un*a m*osc*a e*n m*i s*opa”\n",
    "- Llámala con parámetros posicionales y nominales"
   ]
  },
  {
   "cell_type": "code",
   "execution_count": 18,
   "metadata": {},
   "outputs": [
    {
     "name": "stdout",
     "output_type": "stream",
     "text": [
      "Hol*a *Mi* n*om*br*e *es* j*os*e\n"
     ]
    }
   ],
   "source": [
    "def Espaciador(cadena, caracter, espacios=1):\n",
    "    cadena_espaciada = \"\"\n",
    "    contador_espacios = 0\n",
    "    for i in range(0, len(cadena)):\n",
    "        cadena_espaciada += cadena[i]\n",
    "        if contador_espacios == espacios:\n",
    "            cadena_espaciada += caracter\n",
    "            contador_espacios = 0\n",
    "        contador_espacios += 1\n",
    "    return cadena_espaciada\n",
    "\n",
    "print(Espaciador(\"Hola Mi nombre es jose\", \"*\", 2))\n",
    "            \n",
    "        "
   ]
  }
 ],
 "metadata": {
  "kernelspec": {
   "display_name": "base",
   "language": "python",
   "name": "python3"
  },
  "language_info": {
   "codemirror_mode": {
    "name": "ipython",
    "version": 3
   },
   "file_extension": ".py",
   "mimetype": "text/x-python",
   "name": "python",
   "nbconvert_exporter": "python",
   "pygments_lexer": "ipython3",
   "version": "3.12.4"
  }
 },
 "nbformat": 4,
 "nbformat_minor": 2
}

{
 "cells": [
  {
   "cell_type": "markdown",
   "metadata": {},
   "source": [
    "En este caso lo que vamos a ver es una evolución del caso anterior, vamos a usar DAO, data access object"
   ]
  },
  {
   "cell_type": "code",
   "execution_count": 1,
   "metadata": {},
   "outputs": [],
   "source": [
    "import sqlite3\n",
    "\n",
    "conn = sqlite3.connect('mi_base_de_datos.db')\n",
    "cursor = conn.cursor()\n"
   ]
  },
  {
   "cell_type": "code",
   "execution_count": 2,
   "metadata": {},
   "outputs": [],
   "source": [
    "class UsuarioDAO:\n",
    "    def __init__(self, conexion):\n",
    "        self.conexion = conexion\n",
    "        self.cursor = conexion.cursor()\n",
    "\n",
    "    def crear_tabla(self):\n",
    "        self.cursor.execute('''\n",
    "            CREATE TABLE IF NOT EXISTS usuarios (\n",
    "                id INTEGER PRIMARY KEY,\n",
    "                nombre TEXT,\n",
    "                edad INTEGER\n",
    "            )\n",
    "        ''')\n",
    "        self.conexion.commit()\n",
    "\n",
    "    def insertar_usuario(self, nombre, edad):\n",
    "        self.cursor.execute('''\n",
    "            INSERT INTO usuarios (nombre, edad) VALUES (?, ?)\n",
    "        ''', (nombre, edad))\n",
    "        self.conexion.commit()\n",
    "\n",
    "    def obtener_usuarios(self):\n",
    "        self.cursor.execute('SELECT * FROM usuarios')\n",
    "        return self.cursor.fetchall()\n",
    "\n",
    "    def actualizar_usuario(self, id, nombre, edad):\n",
    "        self.cursor.execute('''\n",
    "            UPDATE usuarios SET nombre = ?, edad = ? WHERE id = ?\n",
    "        ''', (nombre, edad, id))\n",
    "        self.conexion.commit()\n",
    "\n",
    "    def eliminar_usuario(self, id):\n",
    "        self.cursor.execute('DELETE FROM usuarios WHERE id = ?', (id,))\n",
    "        self.conexion.commit()\n"
   ]
  },
  {
   "cell_type": "code",
   "execution_count": 3,
   "metadata": {},
   "outputs": [
    {
     "name": "stdout",
     "output_type": "stream",
     "text": [
      "[(1, 'Juan', 30), (2, 'Juan', 30)]\n"
     ]
    }
   ],
   "source": [
    "dao = UsuarioDAO(conn)\n",
    "dao.crear_tabla()\n",
    "dao.insertar_usuario('Juan', 30)\n",
    "usuarios = dao.obtener_usuarios()\n",
    "print(usuarios)\n"
   ]
  },
  {
   "cell_type": "code",
   "execution_count": 12,
   "metadata": {},
   "outputs": [
    {
     "data": {
      "text/plain": [
       "[]"
      ]
     },
     "execution_count": 12,
     "metadata": {},
     "output_type": "execute_result"
    }
   ],
   "source": [
    "dao.obtener_usuarios()"
   ]
  },
  {
   "cell_type": "code",
   "execution_count": 11,
   "metadata": {},
   "outputs": [],
   "source": [
    "dao.eliminar_usuario(2)"
   ]
  },
  {
   "cell_type": "code",
   "execution_count": 8,
   "metadata": {},
   "outputs": [
    {
     "name": "stdout",
     "output_type": "stream",
     "text": [
      "[(1, 'Juan', 30), (2, 'Juan', 30)]\n"
     ]
    }
   ],
   "source": [
    "print(usuarios)"
   ]
  },
  {
   "cell_type": "code",
   "execution_count": 13,
   "metadata": {},
   "outputs": [],
   "source": [
    "from dataclasses import dataclass\n",
    "import sqlite3\n",
    "\n",
    "@dataclass\n",
    "class UsuarioDTO:\n",
    "    id: int\n",
    "    nombre: str\n",
    "    edad: int\n",
    "\n",
    "class UsuarioDAO:\n",
    "    def __init__(self, conexion):\n",
    "        self.conexion = conexion\n",
    "        self.cursor = self.conexion.cursor()\n",
    "\n",
    "    def crear_tabla(self):\n",
    "        self.cursor.execute('''\n",
    "            CREATE TABLE IF NOT EXISTS usuarios (\n",
    "                id INTEGER PRIMARY KEY,\n",
    "                nombre TEXT,\n",
    "                edad INTEGER\n",
    "            )\n",
    "        ''')\n",
    "        self.conexion.commit()\n",
    "\n",
    "    def insertar_usuario(self, usuario: UsuarioDTO):\n",
    "        self.cursor.execute('''\n",
    "            INSERT INTO usuarios (nombre, edad) VALUES (?, ?)\n",
    "        ''', (usuario.nombre, usuario.edad))\n",
    "        self.conexion.commit()\n",
    "\n",
    "    def obtener_usuarios(self):\n",
    "        self.cursor.execute('SELECT * FROM usuarios')\n",
    "        rows = self.cursor.fetchall()\n",
    "        return [UsuarioDTO(id=row[0], nombre=row[1], edad=row[2]) for row in rows]\n",
    "\n",
    "    def actualizar_usuario(self, usuario: UsuarioDTO):\n",
    "        self.cursor.execute('''\n",
    "            UPDATE usuarios SET nombre = ?, edad = ? WHERE id = ?\n",
    "        ''', (usuario.nombre, usuario.edad, usuario.id))\n",
    "        self.conexion.commit()\n",
    "\n",
    "    def eliminar_usuario(self, id: int):\n",
    "        self.cursor.execute('DELETE FROM usuarios WHERE id = ?', (id,))\n",
    "        self.conexion.commit()\n",
    "\n",
    "\n"
   ]
  },
  {
   "cell_type": "code",
   "execution_count": 14,
   "metadata": {},
   "outputs": [
    {
     "name": "stdout",
     "output_type": "stream",
     "text": [
      "[UsuarioDTO(id=1, nombre='Juan', edad=30)]\n"
     ]
    }
   ],
   "source": [
    "conn = sqlite3.connect(':memory:')\n",
    "dao = UsuarioDAO(conn)\n",
    "dao.crear_tabla()\n",
    "usuario = UsuarioDTO(id=1, nombre='Juan', edad=30)\n",
    "dao.insertar_usuario(usuario)\n",
    "usuarios = dao.obtener_usuarios()\n",
    "print(usuarios)"
   ]
  }
 ],
 "metadata": {
  "kernelspec": {
   "display_name": "FLASK_EOI",
   "language": "python",
   "name": "python3"
  },
  "language_info": {
   "codemirror_mode": {
    "name": "ipython",
    "version": 3
   },
   "file_extension": ".py",
   "mimetype": "text/x-python",
   "name": "python",
   "nbconvert_exporter": "python",
   "pygments_lexer": "ipython3",
   "version": "3.12.4"
  }
 },
 "nbformat": 4,
 "nbformat_minor": 2
}

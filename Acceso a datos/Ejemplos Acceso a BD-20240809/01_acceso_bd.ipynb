{
 "cells": [
  {
   "cell_type": "code",
   "execution_count": 3,
   "metadata": {},
   "outputs": [
    {
     "name": "stdout",
     "output_type": "stream",
     "text": [
      "Collecting mysql-connector-python\n",
      "  Using cached mysql_connector_python-9.0.0-cp312-cp312-manylinux_2_17_x86_64.whl.metadata (2.0 kB)\n",
      "Using cached mysql_connector_python-9.0.0-cp312-cp312-manylinux_2_17_x86_64.whl (19.3 MB)\n",
      "Installing collected packages: mysql-connector-python\n",
      "Successfully installed mysql-connector-python-9.0.0\n",
      "Note: you may need to restart the kernel to use updated packages.\n"
     ]
    }
   ],
   "source": [
    "pip install mysql-connector-python"
   ]
  },
  {
   "cell_type": "code",
   "execution_count": 4,
   "metadata": {},
   "outputs": [],
   "source": [
    "# Lo primero que tenemos que hacer es instalar el conector de mysql\n",
    "# pip install mysql-connector-python\n",
    "\n",
    "import mysql.connector\n",
    "\n",
    "# Establecer conexión\n",
    "conexion = mysql.connector.connect(\n",
    "    host=\"localhost\",\n",
    "    port=\"3306\",\n",
    "    user=\"root\",\n",
    "    password=\"administrador\",\n",
    "    database=\"eoi2\",\n",
    "    charset=\"utf8mb4\",\n",
    "    collation=\"utf8mb4_general_ci\"\n",
    ")\n",
    "\n",
    "\n",
    "cursor = conexion.cursor()\n"
   ]
  },
  {
   "cell_type": "code",
   "execution_count": 5,
   "metadata": {},
   "outputs": [
    {
     "name": "stdout",
     "output_type": "stream",
     "text": [
      "(1000, 'Antonio Gutierrez', 45, 100, 1, datetime.date(1989, 1, 12))\n",
      "(1001, 'Paloma Blanco', 56, 100, 2, datetime.date(1992, 3, 17))\n",
      "(1002, 'Antonio Pazos', 52, 100, 3, datetime.date(1986, 3, 14))\n",
      "(1003, 'Ana Garcia', 27, 101, 2, datetime.date(1995, 10, 23))\n",
      "(1004, 'Amparo Beltran', 28, 101, 3, datetime.date(1998, 2, 4))\n",
      "(1005, 'Enrique Gomez', 36, 101, 3, datetime.date(2000, 7, 5))\n",
      "(1006, 'Nieves Soler', 25, 105, 2, datetime.date(1996, 3, 13))\n",
      "(1007, 'Juan Jose Velasco', 34, 105, 3, datetime.date(1997, 2, 14))\n",
      "(1008, 'Isidro Perez', 22, 109, 2, datetime.date(2000, 5, 6))\n",
      "(1009, 'Ignacio Lopez', 38, 109, 3, datetime.date(1990, 4, 7))\n",
      "(1010, 'Vicente Salvador', 29, 109, 3, datetime.date(1995, 7, 8))\n",
      "(1011, 'Carmen Hernandez', 44, 102, 2, datetime.date(1990, 7, 16))\n",
      "(1012, 'Juan Pons', 50, 102, 4, datetime.date(1994, 4, 14))\n",
      "(1013, 'Pedro Fernandez', 23, 102, 4, datetime.date(1999, 9, 16))\n",
      "(1014, 'Silvia Blasco', 33, 102, 4, datetime.date(1992, 2, 23))\n",
      "(1015, 'Jose Alegre', 26, 106, 2, datetime.date(1997, 8, 26))\n",
      "(1016, 'Cristina Prats', 46, 106, 4, datetime.date(1984, 11, 18))\n",
      "(1017, 'Carlos Gimenez', 35, 106, 4, datetime.date(1995, 5, 15))\n",
      "(1018, 'Maria Gonzalez', 37, 108, 4, datetime.date(1996, 6, 16))\n",
      "(1019, 'Manuel Torres', 24, 108, 4, datetime.date(1998, 1, 19))\n",
      "(1020, 'Jose Perez', 28, 110, 2, datetime.date(1996, 3, 22))\n",
      "(1021, 'Alejandro Martos', 34, 110, 4, datetime.date(1994, 10, 17))\n",
      "(1022, 'Veronica Muelas', 25, 110, 4, datetime.date(1997, 7, 5))\n",
      "(1023, 'Elena Lopez', 29, 112, 4, datetime.date(1994, 7, 9))\n",
      "(1024, 'Isabel Fernandez', 22, 112, 4, datetime.date(2000, 10, 12))\n",
      "(1025, 'Jose Mujica', 49, 103, 2, datetime.date(1987, 9, 4))\n",
      "(1026, 'Pedro Bledos', 26, 103, 5, datetime.date(1998, 2, 6))\n",
      "(1027, 'Pablo Costas', 35, 107, 5, datetime.date(1995, 7, 3))\n",
      "(1028, 'Ester Castro', 27, 111, 2, datetime.date(1996, 7, 18))\n",
      "(1029, 'Gregoria Mas', 33, 111, 5, datetime.date(1997, 3, 14))\n",
      "(1030, 'Jose Medina', 34, 104, 2, datetime.date(1995, 6, 14))\n",
      "(1031, 'Maria Utrillas', 27, 104, 3, datetime.date(1997, 8, 19))\n",
      "(1032, 'Marina Gilabert', 24, 104, 3, datetime.date(1998, 12, 1))\n"
     ]
    }
   ],
   "source": [
    "#En este ejemplo vamos a mostrar todos los empleados que tenemos\n",
    "resultados = cursor.execute(\"SELECT * FROM empleados\").fetchall()\n",
    "\n",
    "\n",
    "for fila in resultados:\n",
    "    print(fila)"
   ]
  },
  {
   "cell_type": "code",
   "execution_count": 6,
   "metadata": {},
   "outputs": [
    {
     "name": "stdout",
     "output_type": "stream",
     "text": [
      "1 registro insertado.\n"
     ]
    }
   ],
   "source": [
    "query = \"INSERT INTO `empleados` (`num`, `nombre`, `edad`, `departamento`, `categoria`, `contrato`) VALUES (4000, 'David Granados', 46, 100, 1, '2024-01-12') \"\n",
    "\n",
    "cursor.execute(query)\n",
    "conexion.commit()\n",
    "\n",
    "print(cursor.rowcount, \"registro insertado.\")"
   ]
  },
  {
   "cell_type": "code",
   "execution_count": 7,
   "metadata": {},
   "outputs": [
    {
     "name": "stdout",
     "output_type": "stream",
     "text": [
      "1 registro(s) eliminado(s).\n"
     ]
    }
   ],
   "source": [
    "sql = \"DELETE FROM empleados WHERE nombre = %s\"\n",
    "valor = (\"David Granados\",)\n",
    "cursor.execute(sql, valor)\n",
    "\n",
    "conexion.commit()\n",
    "print(cursor.rowcount, \"registro(s) eliminado(s).\")"
   ]
  },
  {
   "cell_type": "code",
   "execution_count": 10,
   "metadata": {},
   "outputs": [
    {
     "ename": "ProgrammingError",
     "evalue": "2055: Cursor is not connected",
     "output_type": "error",
     "traceback": [
      "\u001b[0;31m---------------------------------------------------------------------------\u001b[0m",
      "\u001b[0;31mProgrammingError\u001b[0m                          Traceback (most recent call last)",
      "File \u001b[0;32m~/anaconda3/envs/nueva_3_12/lib/python3.12/site-packages/mysql/connector/cursor_cext.py:327\u001b[0m, in \u001b[0;36mCMySQLCursor.execute\u001b[0;34m(self, operation, params, multi)\u001b[0m\n\u001b[1;32m    326\u001b[0m     \u001b[38;5;28;01mif\u001b[39;00m \u001b[38;5;129;01mnot\u001b[39;00m \u001b[38;5;28mself\u001b[39m\u001b[38;5;241m.\u001b[39m_connection \u001b[38;5;129;01mor\u001b[39;00m \u001b[38;5;28mself\u001b[39m\u001b[38;5;241m.\u001b[39m_connection\u001b[38;5;241m.\u001b[39mis_closed():\n\u001b[0;32m--> 327\u001b[0m         \u001b[38;5;28;01mraise\u001b[39;00m ProgrammingError\n\u001b[1;32m    328\u001b[0m \u001b[38;5;28;01mexcept\u001b[39;00m (ProgrammingError, \u001b[38;5;167;01mReferenceError\u001b[39;00m) \u001b[38;5;28;01mas\u001b[39;00m err:\n",
      "\u001b[0;31mProgrammingError\u001b[0m: Unknown error",
      "\nThe above exception was the direct cause of the following exception:\n",
      "\u001b[0;31mProgrammingError\u001b[0m                          Traceback (most recent call last)",
      "Cell \u001b[0;32mIn[10], line 4\u001b[0m\n\u001b[1;32m      2\u001b[0m edad_minima \u001b[38;5;241m=\u001b[39m \u001b[38;5;241m25\u001b[39m\n\u001b[1;32m      3\u001b[0m sql \u001b[38;5;241m=\u001b[39m \u001b[38;5;124m\"\u001b[39m\u001b[38;5;124mSELECT * FROM empleados WHERE edad > \u001b[39m\u001b[38;5;132;01m%s\u001b[39;00m\u001b[38;5;124m\"\u001b[39m\n\u001b[0;32m----> 4\u001b[0m cursor\u001b[38;5;241m.\u001b[39mexecute(sql, (edad_minima,))\n\u001b[1;32m      6\u001b[0m resultados \u001b[38;5;241m=\u001b[39m cursor\u001b[38;5;241m.\u001b[39mfetchall()\n\u001b[1;32m      8\u001b[0m \u001b[38;5;28;01mfor\u001b[39;00m fila \u001b[38;5;129;01min\u001b[39;00m resultados:\n",
      "File \u001b[0;32m~/anaconda3/envs/nueva_3_12/lib/python3.12/site-packages/mysql/connector/cursor_cext.py:329\u001b[0m, in \u001b[0;36mCMySQLCursor.execute\u001b[0;34m(self, operation, params, multi)\u001b[0m\n\u001b[1;32m    327\u001b[0m         \u001b[38;5;28;01mraise\u001b[39;00m ProgrammingError\n\u001b[1;32m    328\u001b[0m \u001b[38;5;28;01mexcept\u001b[39;00m (ProgrammingError, \u001b[38;5;167;01mReferenceError\u001b[39;00m) \u001b[38;5;28;01mas\u001b[39;00m err:\n\u001b[0;32m--> 329\u001b[0m     \u001b[38;5;28;01mraise\u001b[39;00m ProgrammingError(\u001b[38;5;124m\"\u001b[39m\u001b[38;5;124mCursor is not connected\u001b[39m\u001b[38;5;124m\"\u001b[39m, \u001b[38;5;241m2055\u001b[39m) \u001b[38;5;28;01mfrom\u001b[39;00m \u001b[38;5;21;01merr\u001b[39;00m\n\u001b[1;32m    330\u001b[0m \u001b[38;5;28mself\u001b[39m\u001b[38;5;241m.\u001b[39m_connection\u001b[38;5;241m.\u001b[39mhandle_unread_result()\n\u001b[1;32m    332\u001b[0m stmt \u001b[38;5;241m=\u001b[39m \u001b[38;5;124mb\u001b[39m\u001b[38;5;124m\"\u001b[39m\u001b[38;5;124m\"\u001b[39m\n",
      "\u001b[0;31mProgrammingError\u001b[0m: 2055: Cursor is not connected"
     ]
    }
   ],
   "source": [
    "# Consulta con parámetros\n",
    "edad_minima = 25\n",
    "sql = \"SELECT * FROM empleados WHERE edad > %s\"\n",
    "cursor.execute(sql, (edad_minima,))\n",
    "\n",
    "resultados = cursor.fetchall()\n",
    "\n",
    "for fila in resultados:\n",
    "    print(fila)\n"
   ]
  },
  {
   "cell_type": "code",
   "execution_count": 7,
   "metadata": {},
   "outputs": [
    {
     "name": "stdout",
     "output_type": "stream",
     "text": [
      "0 registro(s) eliminado(s).\n"
     ]
    }
   ],
   "source": []
  },
  {
   "cell_type": "code",
   "execution_count": 9,
   "metadata": {},
   "outputs": [],
   "source": [
    "\n",
    "\n",
    "cursor.close()\n",
    "conexion.close()"
   ]
  }
 ],
 "metadata": {
  "kernelspec": {
   "display_name": "FLASK_EOI",
   "language": "python",
   "name": "python3"
  },
  "language_info": {
   "codemirror_mode": {
    "name": "ipython",
    "version": 3
   },
   "file_extension": ".py",
   "mimetype": "text/x-python",
   "name": "python",
   "nbconvert_exporter": "python",
   "pygments_lexer": "ipython3",
   "version": "3.12.4"
  }
 },
 "nbformat": 4,
 "nbformat_minor": 2
}

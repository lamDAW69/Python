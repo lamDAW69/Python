{
 "cells": [
  {
   "cell_type": "code",
   "execution_count": 2,
   "metadata": {},
   "outputs": [
    {
     "name": "stdout",
     "output_type": "stream",
     "text": [
      "Collecting sqlalchemy\n",
      "  Downloading SQLAlchemy-2.0.32-cp312-cp312-manylinux_2_17_x86_64.manylinux2014_x86_64.whl.metadata (9.6 kB)\n",
      "Requirement already satisfied: typing-extensions>=4.6.0 in /home/python/anaconda3/envs/FLASK_EOI/lib/python3.12/site-packages (from sqlalchemy) (4.12.2)\n",
      "Collecting greenlet!=0.4.17 (from sqlalchemy)\n",
      "  Downloading greenlet-3.0.3-cp312-cp312-manylinux_2_24_x86_64.manylinux_2_28_x86_64.whl.metadata (3.8 kB)\n",
      "Downloading SQLAlchemy-2.0.32-cp312-cp312-manylinux_2_17_x86_64.manylinux2014_x86_64.whl (3.2 MB)\n",
      "\u001b[2K   \u001b[90m━━━━━━━━━━━━━━━━━━━━━━━━━━━━━━━━━━━━━━━━\u001b[0m \u001b[32m3.2/3.2 MB\u001b[0m \u001b[31m3.5 MB/s\u001b[0m eta \u001b[36m0:00:00\u001b[0m00:01\u001b[0m00:01\u001b[0m\n",
      "\u001b[?25hDownloading greenlet-3.0.3-cp312-cp312-manylinux_2_24_x86_64.manylinux_2_28_x86_64.whl (625 kB)\n",
      "\u001b[2K   \u001b[90m━━━━━━━━━━━━━━━━━━━━━━━━━━━━━━━━━━━━━━━━\u001b[0m \u001b[32m625.7/625.7 kB\u001b[0m \u001b[31m3.9 MB/s\u001b[0m eta \u001b[36m0:00:00\u001b[0ma \u001b[36m0:00:01\u001b[0m\n",
      "\u001b[?25hInstalling collected packages: greenlet, sqlalchemy\n",
      "Successfully installed greenlet-3.0.3 sqlalchemy-2.0.32\n",
      "Note: you may need to restart the kernel to use updated packages.\n"
     ]
    }
   ],
   "source": [
    "#pip install sqlalchemy"
   ]
  },
  {
   "cell_type": "code",
   "execution_count": 1,
   "metadata": {},
   "outputs": [],
   "source": [
    "from sqlalchemy import create_engine\n",
    "\n",
    "# Crear una conexión a una base de datos SQLite\n",
    "engine = create_engine('sqlite:///ejemplo_alchemy.db', echo=True)"
   ]
  },
  {
   "cell_type": "code",
   "execution_count": 2,
   "metadata": {},
   "outputs": [
    {
     "name": "stdout",
     "output_type": "stream",
     "text": [
      "2024-08-08 13:38:35,483 INFO sqlalchemy.engine.Engine BEGIN (implicit)\n",
      "2024-08-08 13:38:35,484 INFO sqlalchemy.engine.Engine PRAGMA main.table_info(\"usuarios\")\n",
      "2024-08-08 13:38:35,484 INFO sqlalchemy.engine.Engine [raw sql] ()\n",
      "2024-08-08 13:38:35,485 INFO sqlalchemy.engine.Engine COMMIT\n"
     ]
    }
   ],
   "source": [
    "from sqlalchemy.orm import declarative_base\n",
    "from sqlalchemy import Column, Integer, String\n",
    "\n",
    "Base = declarative_base()\n",
    "\n",
    "class Usuario(Base):\n",
    "    __tablename__ = 'usuarios'\n",
    "\n",
    "    id = Column(Integer, primary_key=True)\n",
    "    nombre = Column(String)\n",
    "    email = Column(String)\n",
    "\n",
    "    def __repr__(self):\n",
    "        return f\"<Usuario(nombre='{self.nombre}', email='{self.email}')>\"\n",
    "\n",
    "# Crear las tablas en la base de datos\n",
    "Base.metadata.create_all(engine)"
   ]
  },
  {
   "cell_type": "code",
   "execution_count": 3,
   "metadata": {},
   "outputs": [],
   "source": [
    "from sqlalchemy.orm import sessionmaker\n",
    "#Las sesiones se utilizan para manejar las transacciones de la base de datos:\n",
    "Session = sessionmaker(bind=engine)\n",
    "session = Session()"
   ]
  },
  {
   "cell_type": "code",
   "execution_count": 4,
   "metadata": {},
   "outputs": [
    {
     "name": "stdout",
     "output_type": "stream",
     "text": [
      "2024-08-08 13:40:28,510 INFO sqlalchemy.engine.Engine BEGIN (implicit)\n",
      "2024-08-08 13:40:28,517 INFO sqlalchemy.engine.Engine INSERT INTO usuarios (nombre, email) VALUES (?, ?)\n",
      "2024-08-08 13:40:28,519 INFO sqlalchemy.engine.Engine [generated in 0.00263s] ('Juan', 'juan@ejemplo.com')\n",
      "2024-08-08 13:40:28,523 INFO sqlalchemy.engine.Engine COMMIT\n"
     ]
    }
   ],
   "source": [
    "nuevo_usuario = Usuario(nombre='Juan', email='juan@ejemplo.com')\n",
    "session.add(nuevo_usuario)\n",
    "session.commit()"
   ]
  },
  {
   "cell_type": "code",
   "execution_count": 5,
   "metadata": {},
   "outputs": [
    {
     "name": "stdout",
     "output_type": "stream",
     "text": [
      "2024-08-08 13:45:00,617 INFO sqlalchemy.engine.Engine BEGIN (implicit)\n",
      "2024-08-08 13:45:00,620 INFO sqlalchemy.engine.Engine SELECT usuarios.id AS usuarios_id, usuarios.nombre AS usuarios_nombre, usuarios.email AS usuarios_email \n",
      "FROM usuarios\n",
      "2024-08-08 13:45:00,620 INFO sqlalchemy.engine.Engine [generated in 0.00054s] ()\n",
      "<Usuario(nombre='María', email='maria@ejemplo.com')>\n",
      "<Usuario(nombre='Juan', email='juan@ejemplo.com')>\n",
      "2024-08-08 13:45:00,623 INFO sqlalchemy.engine.Engine SELECT usuarios.id AS usuarios_id, usuarios.nombre AS usuarios_nombre, usuarios.email AS usuarios_email \n",
      "FROM usuarios \n",
      "WHERE usuarios.nombre = ?\n",
      " LIMIT ? OFFSET ?\n",
      "2024-08-08 13:45:00,623 INFO sqlalchemy.engine.Engine [generated in 0.00050s] ('Juan', 1, 0)\n",
      "<Usuario(nombre='Juan', email='juan@ejemplo.com')>\n"
     ]
    }
   ],
   "source": [
    "\n",
    "usuarios = session.query(Usuario).all()\n",
    "for usuario in usuarios:\n",
    "    print(usuario)\n",
    "\n",
    "juan = session.query(Usuario).filter_by(nombre='Juan').first()\n",
    "print(juan)"
   ]
  },
  {
   "cell_type": "code",
   "execution_count": 6,
   "metadata": {},
   "outputs": [
    {
     "name": "stdout",
     "output_type": "stream",
     "text": [
      "2024-08-08 13:46:11,200 INFO sqlalchemy.engine.Engine UPDATE usuarios SET email=? WHERE usuarios.id = ?\n",
      "2024-08-08 13:46:11,201 INFO sqlalchemy.engine.Engine [generated in 0.00095s] ('juan_nuevo@ejemplo.com', 2)\n",
      "2024-08-08 13:46:11,201 INFO sqlalchemy.engine.Engine COMMIT\n"
     ]
    }
   ],
   "source": [
    "#ACTUALIZACIÓN DE DATOS\n",
    "\n",
    "juan.email = 'juan_nuevo@ejemplo.com'\n",
    "session.commit()"
   ]
  },
  {
   "cell_type": "code",
   "execution_count": 8,
   "metadata": {},
   "outputs": [
    {
     "name": "stdout",
     "output_type": "stream",
     "text": [
      "2024-08-08 13:46:52,072 INFO sqlalchemy.engine.Engine SELECT usuarios.id AS usuarios_id, usuarios.nombre AS usuarios_nombre, usuarios.email AS usuarios_email \n",
      "FROM usuarios \n",
      "WHERE usuarios.nombre = ?\n",
      " LIMIT ? OFFSET ?\n",
      "2024-08-08 13:46:52,074 INFO sqlalchemy.engine.Engine [cached since 111.5s ago] ('Juan', 1, 0)\n",
      "<Usuario(nombre='Juan', email='juan_nuevo@ejemplo.com')>\n"
     ]
    }
   ],
   "source": [
    "juan = session.query(Usuario).filter_by(nombre='Juan').first()\n",
    "print(juan)"
   ]
  },
  {
   "cell_type": "code",
   "execution_count": 9,
   "metadata": {},
   "outputs": [
    {
     "name": "stdout",
     "output_type": "stream",
     "text": [
      "2024-08-08 13:49:42,652 INFO sqlalchemy.engine.Engine DELETE FROM usuarios WHERE usuarios.id = ?\n",
      "2024-08-08 13:49:42,652 INFO sqlalchemy.engine.Engine [generated in 0.00078s] (2,)\n",
      "2024-08-08 13:49:42,655 INFO sqlalchemy.engine.Engine COMMIT\n"
     ]
    }
   ],
   "source": [
    "# Eliminar Datos\n",
    "session.delete(juan)\n",
    "session.commit()"
   ]
  },
  {
   "cell_type": "markdown",
   "metadata": {},
   "source": [
    "## RELACIONES"
   ]
  },
  {
   "cell_type": "code",
   "execution_count": 10,
   "metadata": {},
   "outputs": [
    {
     "name": "stdout",
     "output_type": "stream",
     "text": [
      "2024-08-08 09:55:41,346 INFO sqlalchemy.engine.Engine BEGIN (implicit)\n",
      "2024-08-08 09:55:41,348 INFO sqlalchemy.engine.Engine PRAGMA main.table_info(\"usuarios\")\n",
      "2024-08-08 09:55:41,349 INFO sqlalchemy.engine.Engine [raw sql] ()\n",
      "2024-08-08 09:55:41,350 INFO sqlalchemy.engine.Engine PRAGMA main.table_info(\"posts\")\n",
      "2024-08-08 09:55:41,350 INFO sqlalchemy.engine.Engine [raw sql] ()\n",
      "2024-08-08 09:55:41,351 INFO sqlalchemy.engine.Engine PRAGMA temp.table_info(\"posts\")\n",
      "2024-08-08 09:55:41,351 INFO sqlalchemy.engine.Engine [raw sql] ()\n",
      "2024-08-08 09:55:41,353 INFO sqlalchemy.engine.Engine \n",
      "CREATE TABLE posts (\n",
      "\tid INTEGER NOT NULL, \n",
      "\ttitulo VARCHAR, \n",
      "\tcontenido VARCHAR, \n",
      "\tusuario_id INTEGER, \n",
      "\tPRIMARY KEY (id), \n",
      "\tFOREIGN KEY(usuario_id) REFERENCES usuarios (id)\n",
      ")\n",
      "\n",
      "\n",
      "2024-08-08 09:55:41,354 INFO sqlalchemy.engine.Engine [no key 0.00049s] ()\n",
      "2024-08-08 09:55:41,496 INFO sqlalchemy.engine.Engine COMMIT\n"
     ]
    }
   ],
   "source": [
    "from sqlalchemy import ForeignKey\n",
    "from sqlalchemy.orm import relationship\n",
    "\n",
    "class Post(Base):\n",
    "    __tablename__ = 'posts'\n",
    "\n",
    "    id = Column(Integer, primary_key=True)\n",
    "    titulo = Column(String)\n",
    "    contenido = Column(String)\n",
    "    usuario_id = Column(Integer, ForeignKey('usuarios.id'))    \n",
    "    usuario = relationship(\"Usuario\", back_populates=\"posts\")\n"
   ]
  },
  {
   "cell_type": "code",
   "execution_count": null,
   "metadata": {},
   "outputs": [],
   "source": [
    "\n",
    "Usuario.posts = relationship(\"Post\", order_by=Post.id, back_populates=\"usuario\")\n",
    "\n",
    "Base.metadata.create_all(engine)"
   ]
  },
  {
   "cell_type": "code",
   "execution_count": 11,
   "metadata": {},
   "outputs": [
    {
     "name": "stdout",
     "output_type": "stream",
     "text": [
      "2024-08-08 09:55:56,485 INFO sqlalchemy.engine.Engine BEGIN (implicit)\n",
      "2024-08-08 09:55:56,488 INFO sqlalchemy.engine.Engine INSERT INTO usuarios (nombre, email) VALUES (?, ?)\n",
      "2024-08-08 09:55:56,488 INFO sqlalchemy.engine.Engine [generated in 0.00081s] ('María', 'maria@ejemplo.com')\n",
      "2024-08-08 09:55:56,492 INFO sqlalchemy.engine.Engine INSERT INTO posts (titulo, contenido, usuario_id) VALUES (?, ?, ?)\n",
      "2024-08-08 09:55:56,494 INFO sqlalchemy.engine.Engine [generated in 0.00167s] ('Mi primer post', 'Hola mundo!', 1)\n",
      "2024-08-08 09:55:56,498 INFO sqlalchemy.engine.Engine COMMIT\n",
      "2024-08-08 09:55:56,638 INFO sqlalchemy.engine.Engine BEGIN (implicit)\n",
      "2024-08-08 09:55:56,644 INFO sqlalchemy.engine.Engine SELECT usuarios.id AS usuarios_id, usuarios.nombre AS usuarios_nombre, usuarios.email AS usuarios_email \n",
      "FROM usuarios \n",
      "WHERE usuarios.nombre = ?\n",
      " LIMIT ? OFFSET ?\n",
      "2024-08-08 09:55:56,646 INFO sqlalchemy.engine.Engine [cached since 109.1s ago] ('María', 1, 0)\n",
      "2024-08-08 09:55:56,656 INFO sqlalchemy.engine.Engine SELECT posts.id AS posts_id, posts.titulo AS posts_titulo, posts.contenido AS posts_contenido, posts.usuario_id AS posts_usuario_id \n",
      "FROM posts \n",
      "WHERE ? = posts.usuario_id ORDER BY posts.id\n",
      "2024-08-08 09:55:56,657 INFO sqlalchemy.engine.Engine [generated in 0.00081s] (1,)\n",
      "María: Mi primer post\n"
     ]
    }
   ],
   "source": [
    "usuario = Usuario(nombre='María', email='maria@ejemplo.com')\n",
    "post = Post(titulo='Mi primer post', contenido='Hola mundo!', usuario=usuario)\n",
    "\n",
    "session.add(usuario)\n",
    "session.add(post)\n",
    "session.commit()\n",
    "\n",
    "# Consultar los posts de un usuario\n",
    "maria = session.query(Usuario).filter_by(nombre='María').first()\n",
    "for post in maria.posts:\n",
    "    print(f\"{maria.nombre}: {post.titulo}\")"
   ]
  },
  {
   "cell_type": "markdown",
   "metadata": {},
   "source": [
    "RELACIONES UNO A UNO"
   ]
  },
  {
   "cell_type": "code",
   "execution_count": 12,
   "metadata": {},
   "outputs": [],
   "source": [
    "from sqlalchemy import Column, Integer, String, ForeignKey\n",
    "from sqlalchemy.orm import relationship, declarative_base\n",
    "\n",
    "Base = declarative_base()\n",
    "\n",
    "class Usuario(Base):\n",
    "    __tablename__ = 'usuarios'\n",
    "    id = Column(Integer, primary_key=True)\n",
    "    nombre = Column(String)\n",
    "    perfil = relationship(\"Perfil\", back_populates=\"usuario\", uselist=False)\n",
    "\n",
    "class Perfil(Base):\n",
    "    __tablename__ = 'perfiles'\n",
    "    id = Column(Integer, primary_key=True)\n",
    "    biografia = Column(String)\n",
    "    usuario_id = Column(Integer, ForeignKey('usuarios.id'))\n",
    "    usuario = relationship(\"Usuario\", back_populates=\"perfil\")"
   ]
  },
  {
   "cell_type": "markdown",
   "metadata": {},
   "source": [
    "RELACIONES UNO A MUCHOS"
   ]
  },
  {
   "cell_type": "code",
   "execution_count": 13,
   "metadata": {},
   "outputs": [
    {
     "name": "stderr",
     "output_type": "stream",
     "text": [
      "/tmp/ipykernel_17037/339745855.py:1: SAWarning: This declarative base already contains a class with the same class name and module name as __main__.Usuario, and will be replaced in the string-lookup table.\n",
      "  class Usuario(Base):\n"
     ]
    },
    {
     "ename": "InvalidRequestError",
     "evalue": "Table 'usuarios' is already defined for this MetaData instance.  Specify 'extend_existing=True' to redefine options and columns on an existing Table object.",
     "output_type": "error",
     "traceback": [
      "\u001b[0;31m---------------------------------------------------------------------------\u001b[0m",
      "\u001b[0;31mInvalidRequestError\u001b[0m                       Traceback (most recent call last)",
      "Cell \u001b[0;32mIn[13], line 1\u001b[0m\n\u001b[0;32m----> 1\u001b[0m \u001b[38;5;28;43;01mclass\u001b[39;49;00m\u001b[43m \u001b[49m\u001b[38;5;21;43;01mUsuario\u001b[39;49;00m\u001b[43m(\u001b[49m\u001b[43mBase\u001b[49m\u001b[43m)\u001b[49m\u001b[43m:\u001b[49m\n\u001b[1;32m      2\u001b[0m \u001b[43m    \u001b[49m\u001b[43m__tablename__\u001b[49m\u001b[43m \u001b[49m\u001b[38;5;241;43m=\u001b[39;49m\u001b[43m \u001b[49m\u001b[38;5;124;43m'\u001b[39;49m\u001b[38;5;124;43musuarios\u001b[39;49m\u001b[38;5;124;43m'\u001b[39;49m\n\u001b[1;32m      3\u001b[0m \u001b[43m    \u001b[49m\u001b[38;5;28;43mid\u001b[39;49m\u001b[43m \u001b[49m\u001b[38;5;241;43m=\u001b[39;49m\u001b[43m \u001b[49m\u001b[43mColumn\u001b[49m\u001b[43m(\u001b[49m\u001b[43mInteger\u001b[49m\u001b[43m,\u001b[49m\u001b[43m \u001b[49m\u001b[43mprimary_key\u001b[49m\u001b[38;5;241;43m=\u001b[39;49m\u001b[38;5;28;43;01mTrue\u001b[39;49;00m\u001b[43m)\u001b[49m\n",
      "File \u001b[0;32m~/anaconda3/envs/FLASK_EOI/lib/python3.12/site-packages/sqlalchemy/orm/decl_api.py:196\u001b[0m, in \u001b[0;36mDeclarativeMeta.__init__\u001b[0;34m(cls, classname, bases, dict_, **kw)\u001b[0m\n\u001b[1;32m    193\u001b[0m         \u001b[38;5;28mcls\u001b[39m\u001b[38;5;241m.\u001b[39m_sa_registry \u001b[38;5;241m=\u001b[39m reg\n\u001b[1;32m    195\u001b[0m \u001b[38;5;28;01mif\u001b[39;00m \u001b[38;5;129;01mnot\u001b[39;00m \u001b[38;5;28mcls\u001b[39m\u001b[38;5;241m.\u001b[39m\u001b[38;5;18m__dict__\u001b[39m\u001b[38;5;241m.\u001b[39mget(\u001b[38;5;124m\"\u001b[39m\u001b[38;5;124m__abstract__\u001b[39m\u001b[38;5;124m\"\u001b[39m, \u001b[38;5;28;01mFalse\u001b[39;00m):\n\u001b[0;32m--> 196\u001b[0m     \u001b[43m_as_declarative\u001b[49m\u001b[43m(\u001b[49m\u001b[43mreg\u001b[49m\u001b[43m,\u001b[49m\u001b[43m \u001b[49m\u001b[38;5;28;43mcls\u001b[39;49m\u001b[43m,\u001b[49m\u001b[43m \u001b[49m\u001b[43mdict_\u001b[49m\u001b[43m)\u001b[49m\n\u001b[1;32m    197\u001b[0m \u001b[38;5;28mtype\u001b[39m\u001b[38;5;241m.\u001b[39m\u001b[38;5;21m__init__\u001b[39m(\u001b[38;5;28mcls\u001b[39m, classname, bases, dict_)\n",
      "File \u001b[0;32m~/anaconda3/envs/FLASK_EOI/lib/python3.12/site-packages/sqlalchemy/orm/decl_base.py:244\u001b[0m, in \u001b[0;36m_as_declarative\u001b[0;34m(registry, cls, dict_)\u001b[0m\n\u001b[1;32m    239\u001b[0m \u001b[38;5;28;01mdef\u001b[39;00m \u001b[38;5;21m_as_declarative\u001b[39m(\n\u001b[1;32m    240\u001b[0m     registry: _RegistryType, \u001b[38;5;28mcls\u001b[39m: Type[Any], dict_: _ClassDict\n\u001b[1;32m    241\u001b[0m ) \u001b[38;5;241m-\u001b[39m\u001b[38;5;241m>\u001b[39m Optional[_MapperConfig]:\n\u001b[1;32m    242\u001b[0m     \u001b[38;5;66;03m# declarative scans the class for attributes.  no table or mapper\u001b[39;00m\n\u001b[1;32m    243\u001b[0m     \u001b[38;5;66;03m# args passed separately.\u001b[39;00m\n\u001b[0;32m--> 244\u001b[0m     \u001b[38;5;28;01mreturn\u001b[39;00m \u001b[43m_MapperConfig\u001b[49m\u001b[38;5;241;43m.\u001b[39;49m\u001b[43msetup_mapping\u001b[49m\u001b[43m(\u001b[49m\u001b[43mregistry\u001b[49m\u001b[43m,\u001b[49m\u001b[43m \u001b[49m\u001b[38;5;28;43mcls\u001b[39;49m\u001b[43m,\u001b[49m\u001b[43m \u001b[49m\u001b[43mdict_\u001b[49m\u001b[43m,\u001b[49m\u001b[43m \u001b[49m\u001b[38;5;28;43;01mNone\u001b[39;49;00m\u001b[43m,\u001b[49m\u001b[43m \u001b[49m\u001b[43m{\u001b[49m\u001b[43m}\u001b[49m\u001b[43m)\u001b[49m\n",
      "File \u001b[0;32m~/anaconda3/envs/FLASK_EOI/lib/python3.12/site-packages/sqlalchemy/orm/decl_base.py:325\u001b[0m, in \u001b[0;36m_MapperConfig.setup_mapping\u001b[0;34m(cls, registry, cls_, dict_, table, mapper_kw)\u001b[0m\n\u001b[1;32m    321\u001b[0m     \u001b[38;5;28;01mreturn\u001b[39;00m _DeferredMapperConfig(\n\u001b[1;32m    322\u001b[0m         registry, cls_, dict_, table, mapper_kw\n\u001b[1;32m    323\u001b[0m     )\n\u001b[1;32m    324\u001b[0m \u001b[38;5;28;01melse\u001b[39;00m:\n\u001b[0;32m--> 325\u001b[0m     \u001b[38;5;28;01mreturn\u001b[39;00m \u001b[43m_ClassScanMapperConfig\u001b[49m\u001b[43m(\u001b[49m\n\u001b[1;32m    326\u001b[0m \u001b[43m        \u001b[49m\u001b[43mregistry\u001b[49m\u001b[43m,\u001b[49m\u001b[43m \u001b[49m\u001b[43mcls_\u001b[49m\u001b[43m,\u001b[49m\u001b[43m \u001b[49m\u001b[43mdict_\u001b[49m\u001b[43m,\u001b[49m\u001b[43m \u001b[49m\u001b[43mtable\u001b[49m\u001b[43m,\u001b[49m\u001b[43m \u001b[49m\u001b[43mmapper_kw\u001b[49m\n\u001b[1;32m    327\u001b[0m \u001b[43m    \u001b[49m\u001b[43m)\u001b[49m\n",
      "File \u001b[0;32m~/anaconda3/envs/FLASK_EOI/lib/python3.12/site-packages/sqlalchemy/orm/decl_base.py:576\u001b[0m, in \u001b[0;36m_ClassScanMapperConfig.__init__\u001b[0;34m(self, registry, cls_, dict_, table, mapper_kw)\u001b[0m\n\u001b[1;32m    572\u001b[0m \u001b[38;5;28mself\u001b[39m\u001b[38;5;241m.\u001b[39m_extract_mappable_attributes()\n\u001b[1;32m    574\u001b[0m \u001b[38;5;28mself\u001b[39m\u001b[38;5;241m.\u001b[39m_extract_declared_columns()\n\u001b[0;32m--> 576\u001b[0m \u001b[38;5;28;43mself\u001b[39;49m\u001b[38;5;241;43m.\u001b[39;49m\u001b[43m_setup_table\u001b[49m\u001b[43m(\u001b[49m\u001b[43mtable\u001b[49m\u001b[43m)\u001b[49m\n\u001b[1;32m    578\u001b[0m \u001b[38;5;28mself\u001b[39m\u001b[38;5;241m.\u001b[39m_setup_inheriting_columns(mapper_kw)\n\u001b[1;32m    580\u001b[0m \u001b[38;5;28mself\u001b[39m\u001b[38;5;241m.\u001b[39m_early_mapping(mapper_kw)\n",
      "File \u001b[0;32m~/anaconda3/envs/FLASK_EOI/lib/python3.12/site-packages/sqlalchemy/orm/decl_base.py:1749\u001b[0m, in \u001b[0;36m_ClassScanMapperConfig._setup_table\u001b[0;34m(self, table)\u001b[0m\n\u001b[1;32m   1741\u001b[0m             table_kw[\u001b[38;5;124m\"\u001b[39m\u001b[38;5;124mautoload\u001b[39m\u001b[38;5;124m\"\u001b[39m] \u001b[38;5;241m=\u001b[39m \u001b[38;5;28;01mTrue\u001b[39;00m\n\u001b[1;32m   1743\u001b[0m         sorted_columns \u001b[38;5;241m=\u001b[39m \u001b[38;5;28msorted\u001b[39m(\n\u001b[1;32m   1744\u001b[0m             declared_columns,\n\u001b[1;32m   1745\u001b[0m             key\u001b[38;5;241m=\u001b[39m\u001b[38;5;28;01mlambda\u001b[39;00m c: column_ordering\u001b[38;5;241m.\u001b[39mget(c, \u001b[38;5;241m0\u001b[39m),\n\u001b[1;32m   1746\u001b[0m         )\n\u001b[1;32m   1747\u001b[0m         table \u001b[38;5;241m=\u001b[39m \u001b[38;5;28mself\u001b[39m\u001b[38;5;241m.\u001b[39mset_cls_attribute(\n\u001b[1;32m   1748\u001b[0m             \u001b[38;5;124m\"\u001b[39m\u001b[38;5;124m__table__\u001b[39m\u001b[38;5;124m\"\u001b[39m,\n\u001b[0;32m-> 1749\u001b[0m             \u001b[43mtable_cls\u001b[49m\u001b[43m(\u001b[49m\n\u001b[1;32m   1750\u001b[0m \u001b[43m                \u001b[49m\u001b[43mtablename\u001b[49m\u001b[43m,\u001b[49m\n\u001b[1;32m   1751\u001b[0m \u001b[43m                \u001b[49m\u001b[38;5;28;43mself\u001b[39;49m\u001b[38;5;241;43m.\u001b[39;49m\u001b[43m_metadata_for_cls\u001b[49m\u001b[43m(\u001b[49m\u001b[43mmanager\u001b[49m\u001b[43m)\u001b[49m\u001b[43m,\u001b[49m\n\u001b[1;32m   1752\u001b[0m \u001b[43m                \u001b[49m\u001b[38;5;241;43m*\u001b[39;49m\u001b[43msorted_columns\u001b[49m\u001b[43m,\u001b[49m\n\u001b[1;32m   1753\u001b[0m \u001b[43m                \u001b[49m\u001b[38;5;241;43m*\u001b[39;49m\u001b[43margs\u001b[49m\u001b[43m,\u001b[49m\n\u001b[1;32m   1754\u001b[0m \u001b[43m                \u001b[49m\u001b[38;5;241;43m*\u001b[39;49m\u001b[38;5;241;43m*\u001b[39;49m\u001b[43mtable_kw\u001b[49m\u001b[43m,\u001b[49m\n\u001b[1;32m   1755\u001b[0m \u001b[43m            \u001b[49m\u001b[43m)\u001b[49m,\n\u001b[1;32m   1756\u001b[0m         )\n\u001b[1;32m   1757\u001b[0m \u001b[38;5;28;01melse\u001b[39;00m:\n\u001b[1;32m   1758\u001b[0m     \u001b[38;5;28;01mif\u001b[39;00m table \u001b[38;5;129;01mis\u001b[39;00m \u001b[38;5;28;01mNone\u001b[39;00m:\n",
      "File \u001b[0;32m<string>:2\u001b[0m, in \u001b[0;36m__new__\u001b[0;34m(cls, *args, **kw)\u001b[0m\n",
      "File \u001b[0;32m~/anaconda3/envs/FLASK_EOI/lib/python3.12/site-packages/sqlalchemy/util/deprecations.py:281\u001b[0m, in \u001b[0;36mdeprecated_params.<locals>.decorate.<locals>.warned\u001b[0;34m(fn, *args, **kwargs)\u001b[0m\n\u001b[1;32m    274\u001b[0m     \u001b[38;5;28;01mif\u001b[39;00m m \u001b[38;5;129;01min\u001b[39;00m kwargs:\n\u001b[1;32m    275\u001b[0m         _warn_with_version(\n\u001b[1;32m    276\u001b[0m             messages[m],\n\u001b[1;32m    277\u001b[0m             versions[m],\n\u001b[1;32m    278\u001b[0m             version_warnings[m],\n\u001b[1;32m    279\u001b[0m             stacklevel\u001b[38;5;241m=\u001b[39m\u001b[38;5;241m3\u001b[39m,\n\u001b[1;32m    280\u001b[0m         )\n\u001b[0;32m--> 281\u001b[0m \u001b[38;5;28;01mreturn\u001b[39;00m \u001b[43mfn\u001b[49m\u001b[43m(\u001b[49m\u001b[38;5;241;43m*\u001b[39;49m\u001b[43margs\u001b[49m\u001b[43m,\u001b[49m\u001b[43m \u001b[49m\u001b[38;5;241;43m*\u001b[39;49m\u001b[38;5;241;43m*\u001b[39;49m\u001b[43mkwargs\u001b[49m\u001b[43m)\u001b[49m\n",
      "File \u001b[0;32m~/anaconda3/envs/FLASK_EOI/lib/python3.12/site-packages/sqlalchemy/sql/schema.py:427\u001b[0m, in \u001b[0;36mTable.__new__\u001b[0;34m(cls, *args, **kw)\u001b[0m\n\u001b[1;32m    420\u001b[0m \u001b[38;5;129m@util\u001b[39m\u001b[38;5;241m.\u001b[39mdeprecated_params(\n\u001b[1;32m    421\u001b[0m     mustexist\u001b[38;5;241m=\u001b[39m(\n\u001b[1;32m    422\u001b[0m         \u001b[38;5;124m\"\u001b[39m\u001b[38;5;124m1.4\u001b[39m\u001b[38;5;124m\"\u001b[39m,\n\u001b[0;32m   (...)\u001b[0m\n\u001b[1;32m    425\u001b[0m )\n\u001b[1;32m    426\u001b[0m \u001b[38;5;28;01mdef\u001b[39;00m \u001b[38;5;21m__new__\u001b[39m(\u001b[38;5;28mcls\u001b[39m, \u001b[38;5;241m*\u001b[39margs: Any, \u001b[38;5;241m*\u001b[39m\u001b[38;5;241m*\u001b[39mkw: Any) \u001b[38;5;241m-\u001b[39m\u001b[38;5;241m>\u001b[39m Any:\n\u001b[0;32m--> 427\u001b[0m     \u001b[38;5;28;01mreturn\u001b[39;00m \u001b[38;5;28;43mcls\u001b[39;49m\u001b[38;5;241;43m.\u001b[39;49m\u001b[43m_new\u001b[49m\u001b[43m(\u001b[49m\u001b[38;5;241;43m*\u001b[39;49m\u001b[43margs\u001b[49m\u001b[43m,\u001b[49m\u001b[43m \u001b[49m\u001b[38;5;241;43m*\u001b[39;49m\u001b[38;5;241;43m*\u001b[39;49m\u001b[43mkw\u001b[49m\u001b[43m)\u001b[49m\n",
      "File \u001b[0;32m~/anaconda3/envs/FLASK_EOI/lib/python3.12/site-packages/sqlalchemy/sql/schema.py:459\u001b[0m, in \u001b[0;36mTable._new\u001b[0;34m(cls, *args, **kw)\u001b[0m\n\u001b[1;32m    457\u001b[0m \u001b[38;5;28;01mif\u001b[39;00m key \u001b[38;5;129;01min\u001b[39;00m metadata\u001b[38;5;241m.\u001b[39mtables:\n\u001b[1;32m    458\u001b[0m     \u001b[38;5;28;01mif\u001b[39;00m \u001b[38;5;129;01mnot\u001b[39;00m keep_existing \u001b[38;5;129;01mand\u001b[39;00m \u001b[38;5;129;01mnot\u001b[39;00m extend_existing \u001b[38;5;129;01mand\u001b[39;00m \u001b[38;5;28mbool\u001b[39m(args):\n\u001b[0;32m--> 459\u001b[0m         \u001b[38;5;28;01mraise\u001b[39;00m exc\u001b[38;5;241m.\u001b[39mInvalidRequestError(\n\u001b[1;32m    460\u001b[0m             \u001b[38;5;124mf\u001b[39m\u001b[38;5;124m\"\u001b[39m\u001b[38;5;124mTable \u001b[39m\u001b[38;5;124m'\u001b[39m\u001b[38;5;132;01m{\u001b[39;00mkey\u001b[38;5;132;01m}\u001b[39;00m\u001b[38;5;124m'\u001b[39m\u001b[38;5;124m is already defined for this MetaData \u001b[39m\u001b[38;5;124m\"\u001b[39m\n\u001b[1;32m    461\u001b[0m             \u001b[38;5;124m\"\u001b[39m\u001b[38;5;124minstance.  Specify \u001b[39m\u001b[38;5;124m'\u001b[39m\u001b[38;5;124mextend_existing=True\u001b[39m\u001b[38;5;124m'\u001b[39m\u001b[38;5;124m \u001b[39m\u001b[38;5;124m\"\u001b[39m\n\u001b[1;32m    462\u001b[0m             \u001b[38;5;124m\"\u001b[39m\u001b[38;5;124mto redefine \u001b[39m\u001b[38;5;124m\"\u001b[39m\n\u001b[1;32m    463\u001b[0m             \u001b[38;5;124m\"\u001b[39m\u001b[38;5;124moptions and columns on an \u001b[39m\u001b[38;5;124m\"\u001b[39m\n\u001b[1;32m    464\u001b[0m             \u001b[38;5;124m\"\u001b[39m\u001b[38;5;124mexisting Table object.\u001b[39m\u001b[38;5;124m\"\u001b[39m\n\u001b[1;32m    465\u001b[0m         )\n\u001b[1;32m    466\u001b[0m     table \u001b[38;5;241m=\u001b[39m metadata\u001b[38;5;241m.\u001b[39mtables[key]\n\u001b[1;32m    467\u001b[0m     \u001b[38;5;28;01mif\u001b[39;00m extend_existing:\n",
      "\u001b[0;31mInvalidRequestError\u001b[0m: Table 'usuarios' is already defined for this MetaData instance.  Specify 'extend_existing=True' to redefine options and columns on an existing Table object."
     ]
    }
   ],
   "source": [
    "class Usuario(Base):\n",
    "    __tablename__ = 'usuarios'\n",
    "    id = Column(Integer, primary_key=True)\n",
    "    nombre = Column(String)\n",
    "    posts = relationship(\"Post\", back_populates=\"autor\")\n",
    "\n",
    "class Post(Base):\n",
    "    __tablename__ = 'posts'\n",
    "    id = Column(Integer, primary_key=True)\n",
    "    titulo = Column(String)\n",
    "    usuario_id = Column(Integer, ForeignKey('usuarios.id'))\n",
    "    autor = relationship(\"Usuario\", back_populates=\"posts\")"
   ]
  },
  {
   "cell_type": "code",
   "execution_count": null,
   "metadata": {},
   "outputs": [],
   "source": []
  }
 ],
 "metadata": {
  "kernelspec": {
   "display_name": "FLASK_EOI",
   "language": "python",
   "name": "python3"
  },
  "language_info": {
   "codemirror_mode": {
    "name": "ipython",
    "version": 3
   },
   "file_extension": ".py",
   "mimetype": "text/x-python",
   "name": "python",
   "nbconvert_exporter": "python",
   "pygments_lexer": "ipython3",
   "version": "3.12.4"
  }
 },
 "nbformat": 4,
 "nbformat_minor": 2
}

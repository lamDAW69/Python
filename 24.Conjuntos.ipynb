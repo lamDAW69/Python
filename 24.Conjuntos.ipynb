{
 "cells": [
  {
   "cell_type": "code",
   "execution_count": 7,
   "metadata": {},
   "outputs": [
    {
     "name": "stdout",
     "output_type": "stream",
     "text": [
      "[18, 7, 13, 1, 2, 4]\n",
      "Introduce 3 números del 1-20\n",
      "Tus números: {4, 5, 6}\n",
      "Números acertados: {4}\n"
     ]
    },
    {
     "ename": "",
     "evalue": "",
     "output_type": "error",
     "traceback": [
      "\u001b[1;31mEl kernel se bloqueó al ejecutar código en la celda actual o en una celda anterior. \n",
      "\u001b[1;31mRevise el código de las celdas para identificar una posible causa del error. \n",
      "\u001b[1;31mHaga clic <a href='https://aka.ms/vscodeJupyterKernelCrash'>aquí</a> para obtener más información. \n",
      "\u001b[1;31mVea Jupyter <a href='command:jupyter.viewOutput'>log</a> para obtener más detalles."
     ]
    }
   ],
   "source": [
    "import random\n",
    "\n",
    "numeros = random.sample(range(1, 20), 6)\n",
    "print(numeros)\n",
    "\n",
    "numeros_usuarios = set()\n",
    "print(\"Introduce 3 números del 1-20\")\n",
    "\n",
    "for _ in range(3):\n",
    "    num = None; \n",
    "    while num is None:\n",
    "        try:\n",
    "            num = int(input())\n",
    "            if 1 <= num <= 20:\n",
    "                numeros_usuarios.add(num)   \n",
    "            else:\n",
    "                print(\"Número fuera de rango\")\n",
    "                num = None\n",
    "        except ValueError:\n",
    "            print(\"No es un número\")\n",
    "            num = None\n",
    "\n",
    "        \n",
    "correct_numbers = set(numeros).intersection(numeros_usuarios)\n",
    "print(f\"Tus números: {numeros_usuarios}\")\n",
    "print(f\"Números acertados: {correct_numbers}\")\n",
    "\n"
   ]
  },
  {
   "cell_type": "markdown",
   "metadata": {},
   "source": [
    "otra forma de realizarlo también es esta\n"
   ]
  },
  {
   "cell_type": "code",
   "execution_count": null,
   "metadata": {},
   "outputs": [],
   "source": [
    "import random\n",
    "\n",
    "nums = { random.randint(1, 20) for _ in range(6) }\n",
    "\n",
    "txt_input = input(\"Dime 3 números separados por ','\")\n",
    "\n",
    "nums_input = set(int(numero) for numero in txt_input.split(','))\n",
    "\n",
    "\n",
    "\n",
    "print(f\"Números generados: {nums}\")\n",
    "\n",
    "print(f\"Números introducidos por el usuario: {nums_input}\")\n",
    "\n",
    "print(f\"Números que se repiten: {nums & nums_input}\" if len(nums & nums_input) > 0 else \"No hay números repetidos\")"
   ]
  }
 ],
 "metadata": {
  "kernelspec": {
   "display_name": "base",
   "language": "python",
   "name": "python3"
  },
  "language_info": {
   "codemirror_mode": {
    "name": "ipython",
    "version": 3
   },
   "file_extension": ".py",
   "mimetype": "text/x-python",
   "name": "python",
   "nbconvert_exporter": "python",
   "pygments_lexer": "ipython3",
   "version": "3.12.4"
  }
 },
 "nbformat": 4,
 "nbformat_minor": 2
}

{
 "cells": [
  {
   "cell_type": "code",
   "execution_count": 1,
   "metadata": {},
   "outputs": [
    {
     "name": "stdout",
     "output_type": "stream",
     "text": [
      "AL llegar AL ASILO, mi ABUELA me ALABO\n"
     ]
    }
   ],
   "source": [
    "import re\n",
    "\n",
    "cadena = \"Al llegar al asilo, mi abuela me alabo\"\n",
    "\n",
    "exp = r'\\b[Aa](\\w*)\\b'\n",
    "\n",
    "cadena_modificada = re.sub(exp, lambda palabra: palabra.group(0).upper(), cadena)\n",
    "\n",
    "print(cadena_modificada)"
   ]
  },
  {
   "cell_type": "markdown",
   "metadata": {},
   "source": [
    "A partir de un texto cualquiera. Sustituye todas las palabras que empiezan\n",
    "por A, por su equivalente en mayúsculasa\n",
    "– Una palabra contendrá solo letras\n",
    "– Utiliza el separador de palabra (\\b) para delimitarla\n",
    "– “Al llegar al asilo, mi abuela me alabó” → “AL llegar AL ASILO, mi ABUELA me ALABÓ”\n",
    "- Puedes utilizar el carácter \\w para las palabras. Si optas por poner un rango\n",
    "de letras de la ‘a’ a la ‘z’, debes incluir también los caracteres con acento y\n",
    "la ñ → [a-záéíúóñ] "
   ]
  }
 ],
 "metadata": {
  "kernelspec": {
   "display_name": "base",
   "language": "python",
   "name": "python3"
  },
  "language_info": {
   "codemirror_mode": {
    "name": "ipython",
    "version": 3
   },
   "file_extension": ".py",
   "mimetype": "text/x-python",
   "name": "python",
   "nbconvert_exporter": "python",
   "pygments_lexer": "ipython3",
   "version": "3.12.4"
  }
 },
 "nbformat": 4,
 "nbformat_minor": 2
}

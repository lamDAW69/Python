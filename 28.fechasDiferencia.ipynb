{
 "cells": [
  {
   "cell_type": "markdown",
   "metadata": {},
   "source": [
    "Pídele al usuario su fecha de nacimiento en formato dd/mm/yyyy\n",
    "\n",
    "Calcula cuantos años y días han pasado desde dicha fecha hasta hoy y\n",
    "muéstraselo"
   ]
  },
  {
   "cell_type": "code",
   "execution_count": 14,
   "metadata": {},
   "outputs": [
    {
     "name": "stdout",
     "output_type": "stream",
     "text": [
      "Han pasado 23 años y 120 días desde la fecha introducida\n"
     ]
    }
   ],
   "source": [
    "from datetime import datetime\n",
    "\n",
    "\n",
    "fecha_usuario = input(\"Introduce una fecha en formato dd/mm/aaaa: \")\n",
    "fecha_usuario_ok = datetime.strptime(fecha_usuario, \"%d/%m/%Y\") #El porcentaje es para indicarle al formato en que tiene que leer la fecha que ser convertido\n",
    "hoy = datetime.now()\n",
    "\n",
    "diferencia_dias = (hoy - fecha_usuario_ok).days\n",
    "\n",
    "anyos = diferencia_dias // 365 #División entera\n",
    "dias = diferencia_dias % 365 #Calculamos el resto de la división\n",
    "\n",
    "print(f\"Han pasado {anyos} años y {dias} días desde la fecha introducida\")\n"
   ]
  }
 ],
 "metadata": {
  "kernelspec": {
   "display_name": "base",
   "language": "python",
   "name": "python3"
  },
  "language_info": {
   "codemirror_mode": {
    "name": "ipython",
    "version": 3
   },
   "file_extension": ".py",
   "mimetype": "text/x-python",
   "name": "python",
   "nbconvert_exporter": "python",
   "pygments_lexer": "ipython3",
   "version": "3.12.4"
  }
 },
 "nbformat": 4,
 "nbformat_minor": 2
}

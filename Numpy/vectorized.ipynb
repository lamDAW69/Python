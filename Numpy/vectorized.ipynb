{
 "cells": [
  {
   "cell_type": "code",
   "execution_count": 9,
   "metadata": {},
   "outputs": [
    {
     "name": "stdout",
     "output_type": "stream",
     "text": [
      "[0 1 2 3 4 5 6 7 8 9]\n",
      "[0 1 2 3 4 5 6 7 8 9]\n",
      "[ 0  2  4  6  8 10 12 14 16 18]\n"
     ]
    }
   ],
   "source": [
    "import numpy as np\n",
    "a = np.arange(10)\n",
    "b = np.arange(10)\n",
    "print(b)\n",
    "print(a)\n",
    "print(a+b)"
   ]
  },
  {
   "cell_type": "markdown",
   "metadata": {},
   "source": [
    "También se pueden utilizar para ser comparador con multiindex\n"
   ]
  },
  {
   "cell_type": "code",
   "execution_count": 22,
   "metadata": {},
   "outputs": [
    {
     "name": "stdout",
     "output_type": "stream",
     "text": [
      "[2 3 4]\n",
      "[0 1 2]\n",
      "[[45 68 38 56 60]\n",
      " [15 27 50 14 85]\n",
      " [38 68 32 11 96]\n",
      " [32  1  4 72 81]\n",
      " [13 39 30 96 70]]\n"
     ]
    },
    {
     "data": {
      "text/plain": [
       "array([[ True,  True,  True,  True,  True],\n",
       "       [False, False,  True, False,  True],\n",
       "       [ True,  True,  True, False,  True],\n",
       "       [ True, False, False,  True,  True],\n",
       "       [False,  True, False,  True,  True]])"
      ]
     },
     "execution_count": 22,
     "metadata": {},
     "output_type": "execute_result"
    }
   ],
   "source": [
    "a = np.arange(5)\n",
    "print(a[a >= 2])  #En este caso lo que está realizando es filtrarlo para que solo salgan por pantallan los que sean mayores o iguales a 2\n",
    "\n",
    "#También puede utilizarlo con el .mean y que compara \n",
    "print(a[a <= a.mean()]) \n",
    "\n",
    "#También se puede utilizar para poder craer matrices \n",
    "\n",
    "x = np.random.randint(100, size=(5,5))    #En este caso se está creando una matriz de 5x5 con números aleatorios entre 0 y 100\n",
    "print(x)\n",
    "x > 30\n",
    "\n"
   ]
  },
  {
   "cell_type": "markdown",
   "metadata": {},
   "source": []
  },
  {
   "cell_type": "markdown",
   "metadata": {},
   "source": [
    "También pueden ser combinados con | o y "
   ]
  },
  {
   "cell_type": "markdown",
   "metadata": {},
   "source": []
  }
 ],
 "metadata": {
  "kernelspec": {
   "display_name": "entorno_con_faker",
   "language": "python",
   "name": "python3"
  },
  "language_info": {
   "codemirror_mode": {
    "name": "ipython",
    "version": 3
   },
   "file_extension": ".py",
   "mimetype": "text/x-python",
   "name": "python",
   "nbconvert_exporter": "python",
   "pygments_lexer": "ipython3",
   "version": "3.12.4"
  }
 },
 "nbformat": 4,
 "nbformat_minor": 2
}

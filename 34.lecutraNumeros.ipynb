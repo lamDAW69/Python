{
 "cells": [
  {
   "cell_type": "code",
   "execution_count": 17,
   "metadata": {},
   "outputs": [
    {
     "name": "stdout",
     "output_type": "stream",
     "text": [
      "2+5+6+7+8 = 28\n"
     ]
    }
   ],
   "source": [
    "with open(\"numeros.txt\", \"r\") as f:\n",
    "    lines = [lines.strip() for lines in f]\n",
    "    total = 0\n",
    "    for x in lines: \n",
    "        total += int(x)\n",
    "    \n",
    "    print( ('+'.join(lines)) + \" = \" + str(total))"
   ]
  },
  {
   "cell_type": "markdown",
   "metadata": {},
   "source": [
    "A partir de un archivo de texto que contenga un número en cada línea. Lee\n",
    "todos los números y calcula la suma. Muestra los números separados por ‘+’\n",
    "y el resultado final."
   ]
  }
 ],
 "metadata": {
  "kernelspec": {
   "display_name": "base",
   "language": "python",
   "name": "python3"
  },
  "language_info": {
   "codemirror_mode": {
    "name": "ipython",
    "version": 3
   },
   "file_extension": ".py",
   "mimetype": "text/x-python",
   "name": "python",
   "nbconvert_exporter": "python",
   "pygments_lexer": "ipython3",
   "version": "3.12.4"
  }
 },
 "nbformat": 4,
 "nbformat_minor": 2
}

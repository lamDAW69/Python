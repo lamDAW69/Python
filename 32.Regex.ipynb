{
 "cells": [
  {
   "cell_type": "code",
   "execution_count": 2,
   "metadata": {},
   "outputs": [
    {
     "name": "stdout",
     "output_type": "stream",
     "text": [
      "Invalid name format\n",
      "Invalid DNI format\n",
      "Invalid email format\n"
     ]
    }
   ],
   "source": [
    "import re\n",
    "\n",
    "def validate_name(name):\n",
    "    pattern = r'^[a-zA-Z]+(?:\\s[a-zA-Z]+)*$'\n",
    "    if re.match(pattern, name):\n",
    "        return True\n",
    "    else:\n",
    "        return False\n",
    "\n",
    "def validate_dni(dni):\n",
    "    pattern = r'^[XYZxyz]?\\d{7}[A-Za-z]$'\n",
    "    if re.match(pattern, dni):\n",
    "        return True\n",
    "    else:\n",
    "        return False\n",
    "\n",
    "def validate_email(email):\n",
    "    pattern = r'^[a-zA-Z0-9]+@[a-zA-Z0-9]+\\.[a-zA-Z]{2,5}$'\n",
    "    if re.match(pattern, email):\n",
    "        return True\n",
    "    else:\n",
    "        return False\n",
    "\n",
    "name = input(\"Enter your name: \")\n",
    "dni = input(\"Enter your DNI: \")\n",
    "email = input(\"Enter your email: \")\n",
    "\n",
    "if not validate_name(name):\n",
    "    print(\"Invalid name format\")\n",
    "if not validate_dni(dni):\n",
    "    print(\"Invalid DNI format\")\n",
    "if not validate_email(email):\n",
    "    print(\"Invalid email format\")"
   ]
  },
  {
   "cell_type": "markdown",
   "metadata": {},
   "source": [
    "Pregunta al usuario que introduzca los siguientes datos que debes validar:\n",
    "\n",
    "\n",
    "– Nombre → Al menos 1 palabra (solo letras, mínimo 1) opcionalmente\n",
    "pueden venir más palabras separadas por espacio\n",
    "– DNI → 8 número y una letra. También puede ser un DNI extranjero que\n",
    "el primer número pueda ser la letra X,Y o Z.\n",
    "– Email → Vamos a hacerlo simple aunque no sea realista:\n",
    "  Uno o más caracteres alfanuméricos seguidos de una arroba, seguida de uno o más alfanuméricos seguidos de un punto (\\.), seguido de entre 2 y 5 letras.\n",
    "\n",
    "\n",
    "Si algún dato no tiene un formato correcto, muestrale el error al usuario."
   ]
  }
 ],
 "metadata": {
  "kernelspec": {
   "display_name": "base",
   "language": "python",
   "name": "python3"
  },
  "language_info": {
   "codemirror_mode": {
    "name": "ipython",
    "version": 3
   },
   "file_extension": ".py",
   "mimetype": "text/x-python",
   "name": "python",
   "nbconvert_exporter": "python",
   "pygments_lexer": "ipython3",
   "version": "3.12.4"
  }
 },
 "nbformat": 4,
 "nbformat_minor": 2
}

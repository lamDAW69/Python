{
 "cells": [
  {
   "cell_type": "code",
   "execution_count": 7,
   "metadata": {},
   "outputs": [
    {
     "name": "stdout",
     "output_type": "stream",
     "text": [
      "La suma de los números ingresados es: 2\n"
     ]
    }
   ],
   "source": [
    "def sumar_numeros():\n",
    "    suma = 0\n",
    "    continuar = 'si'\n",
    "    \n",
    "    while continuar.lower() != 'no':\n",
    "        numero = input(\"Ingrese un número: \")\n",
    "        suma += int(numero)\n",
    "        continuar = input(\"¿Desea ingresar otro número? (si/no): \")\n",
    "    \n",
    "    return suma\n",
    "\n",
    "resultado = sumar_numeros()\n",
    "print(\"La suma de los números ingresados es:\", resultado)"
   ]
  }
 ],
 "metadata": {
  "kernelspec": {
   "display_name": "base",
   "language": "python",
   "name": "python3"
  },
  "language_info": {
   "codemirror_mode": {
    "name": "ipython",
    "version": 3
   },
   "file_extension": ".py",
   "mimetype": "text/x-python",
   "name": "python",
   "nbconvert_exporter": "python",
   "pygments_lexer": "ipython3",
   "version": "3.12.4"
  }
 },
 "nbformat": 4,
 "nbformat_minor": 2
}

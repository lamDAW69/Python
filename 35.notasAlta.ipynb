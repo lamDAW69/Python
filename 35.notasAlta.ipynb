{
 "cells": [
  {
   "cell_type": "code",
   "execution_count": 21,
   "metadata": {},
   "outputs": [
    {
     "name": "stdout",
     "output_type": "stream",
     "text": [
      "{'jose': '8', 'Antuan': '5', 'Ramon': '2', 'Paco': '9', 'Luis': '5'}\n",
      "La nota maxima es 9 , la nota minima es 2 y la nota media es 5.80\n"
     ]
    }
   ],
   "source": [
    "with open(\"nota.txt\", \"r\") as f:\n",
    "    dict = {}\n",
    "    for line in f:\n",
    "        key, value = line.split(\";\") \n",
    "        dict[key] = value.strip()  \n",
    "    print(dict)\n",
    "\n",
    "    nota_max = max(dict.values())\n",
    "    nota_min = min(dict.values())\n",
    "    nota_media = sum(int(value) for value in dict.values()) / len(dict)\n",
    "\n",
    "    print (f\"La nota maxima es {nota_max} , la nota minima es {nota_min} y la nota media es {nota_media:.2f}\")\n",
    "\n"
   ]
  },
  {
   "cell_type": "markdown",
   "metadata": {},
   "source": [
    "º"
   ]
  }
 ],
 "metadata": {
  "kernelspec": {
   "display_name": "base",
   "language": "python",
   "name": "python3"
  },
  "language_info": {
   "codemirror_mode": {
    "name": "ipython",
    "version": 3
   },
   "file_extension": ".py",
   "mimetype": "text/x-python",
   "name": "python",
   "nbconvert_exporter": "python",
   "pygments_lexer": "ipython3",
   "version": "3.12.4"
  }
 },
 "nbformat": 4,
 "nbformat_minor": 2
}

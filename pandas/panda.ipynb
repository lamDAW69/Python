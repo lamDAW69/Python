{
 "cells": [
  {
   "cell_type": "code",
   "execution_count": 9,
   "metadata": {},
   "outputs": [
    {
     "name": "stdout",
     "output_type": "stream",
     "text": [
      "0     35.467\n",
      "1     63.951\n",
      "2     80.940\n",
      "3     60.665\n",
      "4    127.061\n",
      "5     64.511\n",
      "6    318.523\n",
      "dtype: float64\n",
      "0     35.467\n",
      "1     63.951\n",
      "2     80.940\n",
      "3     60.665\n",
      "4    127.061\n",
      "5     64.511\n",
      "6    318.523\n",
      "Name: G7 Population in millions, dtype: float64\n",
      "RangeIndex(start=0, stop=7, step=1)\n"
     ]
    }
   ],
   "source": [
    "import pandas as pd \n",
    "import numpy as np\n",
    "\n",
    "\n",
    "g7_pop = pd.Series([35.467, 63.951, 80.940, 60.665, 127.061, 64.511, 318.523])\n",
    "print(g7_pop)\n",
    "g7_pop.name = 'G7 Population in millions' # name of the series\n",
    "print(g7_pop)\n",
    "\n",
    "print(g7_pop.index) # RangeIndex(start=0, stop=7, step=1)\n",
    "\n",
    "\n"
   ]
  },
  {
   "cell_type": "markdown",
   "metadata": {},
   "source": [
    "Se puede cambiar el índece de la serie "
   ]
  },
  {
   "cell_type": "code",
   "execution_count": 16,
   "metadata": {},
   "outputs": [
    {
     "name": "stdout",
     "output_type": "stream",
     "text": [
      "Canada             35.467\n",
      "France             63.951\n",
      "Germany            80.940\n",
      "Italy              60.665\n",
      "Japan             127.061\n",
      "United Kingdom     64.511\n",
      "United States     318.523\n",
      "Name: G7 Population in millions, dtype: float64\n",
      "35.467\n",
      "Canada             35.467\n",
      "France             63.951\n",
      "Germany            80.940\n",
      "Italy              60.665\n",
      "Japan             127.061\n",
      "United Kingdom     64.511\n",
      "United States     318.523\n",
      "Name: The G8 Population in millions, dtype: float64\n",
      "35.467\n"
     ]
    }
   ],
   "source": [
    "g7_pop.index = [\n",
    "    'Canada',\n",
    "    'France',\n",
    "    'Germany',\n",
    "    'Italy',\n",
    "    'Japan',\n",
    "    'United Kingdom',\n",
    "    'United States'\n",
    "]\n",
    "print(g7_pop)\n",
    "print(g7_pop['Canada'])\n",
    "\n",
    "\n",
    "#También puedo crear el indice pasándolo como parámetros\n",
    "\n",
    "g8_pop = pd.Series([\n",
    "    35.467, 63.951, 80.94, 60.665, 127.061, 64.511, 318.523\n",
    "], index=[\n",
    "    'Canada', 'France', 'Germany', 'Italy', 'Japan', 'United Kingdom',\n",
    "    'United States'\n",
    "], \n",
    "name = \"The G8 Population in millions\")\n",
    "print(g8_pop)\n",
    "\n",
    "print(g8_pop['Canada'])\n"
   ]
  },
  {
   "cell_type": "markdown",
   "metadata": {},
   "source": [
    "Aún se pueden obtener los datos por orden secuencia (0-1-2-3-4-5-6-7)"
   ]
  },
  {
   "cell_type": "code",
   "execution_count": 23,
   "metadata": {},
   "outputs": [
    {
     "name": "stdout",
     "output_type": "stream",
     "text": [
      "35.467\n",
      "318.523\n",
      "Canada             35.467\n",
      "France             63.951\n",
      "Germany            80.940\n",
      "Italy              60.665\n",
      "Japan             127.061\n",
      "United Kingdom     64.511\n",
      "United States     318.523\n",
      "Name: The G8 Population in millions, dtype: float64\n",
      "Canada    35.467\n",
      "Italy     60.665\n",
      "Name: The G8 Population in millions, dtype: float64\n",
      "Canada    35.467\n",
      "Italy     60.665\n",
      "Name: The G8 Population in millions, dtype: float64\n"
     ]
    }
   ],
   "source": [
    "print(g8_pop.iloc[0])\n",
    "print(g8_pop.iloc[-1])\n",
    "print(g8_pop)\n",
    "print(g8_pop[['Canada', 'Italy']]) # Seleccionar varios elementos del diccionario\n",
    "#También puede realizarse de la siguientne manera por posición\n",
    "print(g8_pop.iloc[[0, 3]])"
   ]
  },
  {
   "cell_type": "markdown",
   "metadata": {},
   "source": [
    "También srive para slice dentro de la serie"
   ]
  },
  {
   "cell_type": "code",
   "execution_count": 25,
   "metadata": {},
   "outputs": [
    {
     "name": "stdout",
     "output_type": "stream",
     "text": [
      "Canada     35.467\n",
      "France     63.951\n",
      "Germany    80.940\n",
      "Italy      60.665\n",
      "Name: The G8 Population in millions, dtype: float64\n"
     ]
    }
   ],
   "source": [
    "print(g8_pop['Canada': 'Italy']) # Seleccionar un rango de elementos\n"
   ]
  },
  {
   "cell_type": "markdown",
   "metadata": {},
   "source": [
    "Boolean arrays//Boolean series to perform operations on top of series"
   ]
  },
  {
   "cell_type": "code",
   "execution_count": 29,
   "metadata": {},
   "outputs": [
    {
     "name": "stdout",
     "output_type": "stream",
     "text": [
      "107.30257142857144\n",
      "97.24996987121581\n",
      "Japan            127.061\n",
      "United States    318.523\n",
      "Name: The G8 Population in millions, dtype: float64\n",
      "France             63.951\n",
      "Germany            80.940\n",
      "Italy              60.665\n",
      "Japan             127.061\n",
      "United Kingdom     64.511\n",
      "United States     318.523\n",
      "Name: The G8 Population in millions, dtype: float64\n"
     ]
    }
   ],
   "source": [
    "print (g8_pop.mean())\n",
    "print (g8_pop.std())\n",
    "print (g8_pop[g8_pop > g8_pop.mean()]) # Seleccionar los elementos que son mayores al promedio\n",
    "print (g8_pop[(g8_pop > g8_pop.mean() - g8_pop.std() / 2) | (g8_pop > g8_pop.mean() + g8_pop.std() / 2)]) # Seleccionar los elementos que estan a media desviación estándar del promedio"
   ]
  },
  {
   "cell_type": "markdown",
   "metadata": {},
   "source": [
    "Operaciones y métodos"
   ]
  },
  {
   "cell_type": "code",
   "execution_count": 32,
   "metadata": {},
   "outputs": [
    {
     "name": "stdout",
     "output_type": "stream",
     "text": [
      "Canada             35467000.0\n",
      "France             63951000.0\n",
      "Germany            80940000.0\n",
      "Italy              60665000.0\n",
      "Japan             127061000.0\n",
      "United Kingdom     64511000.0\n",
      "United States     318523000.0\n",
      "Name: The G8 Population in millions, dtype: float64\n",
      "France     4089.730401\n",
      "Germany    6551.283600\n",
      "Italy      3680.242225\n",
      "Name: The G8 Population in millions, dtype: float64\n",
      "Canada            False\n",
      "France            False\n",
      "Germany            True\n",
      "Italy             False\n",
      "Japan              True\n",
      "United Kingdom    False\n",
      "United States      True\n",
      "Name: The G8 Population in millions, dtype: bool\n",
      "Canada            35.467\n",
      "France            63.951\n",
      "Germany           99.000\n",
      "Italy             60.665\n",
      "Japan             99.000\n",
      "United Kingdom    64.511\n",
      "United States     99.000\n",
      "Name: The G8 Population in millions, dtype: float64\n"
     ]
    }
   ],
   "source": [
    "print(g8_pop * 1_000_000) # Multiplicar todos los elementos por un millón\n",
    "\n",
    "print(g8_pop['France': 'Italy'] ** 2) # Elevar al cuadrado los elementos del rango\n",
    "\n",
    "print(g8_pop > 70) # Verificar si los elementos son mayores a 70 (Sacaría por consola true or false)\n",
    "\n",
    "g8_pop[g8_pop > 70] = 99 # Cambiar los elementos mayores a 70 por 99\n",
    "print(g8_pop) # Seleccionar los elementos que son mayores a 70"
   ]
  },
  {
   "cell_type": "markdown",
   "metadata": {},
   "source": [
    "DataFrames = which is similar to a csv file"
   ]
  },
  {
   "cell_type": "code",
   "execution_count": 37,
   "metadata": {},
   "outputs": [
    {
     "name": "stdout",
     "output_type": "stream",
     "text": [
      "   Population    GDP  Surface Area    HDI Continent\n",
      "0      35.467   1.84       9984670  0.913   America\n",
      "1      63.951   2.78        640679  0.888    Europe\n",
      "2      80.940   3.42        357114  0.916    Europe\n",
      "3      60.665   2.07        301336  0.873    Europe\n",
      "4     127.061   4.87        377930  0.891      Asia\n",
      "5      64.511   2.62        242495  0.907    Europe\n",
      "6     318.523  19.39       9525067  0.915   America\n",
      "                Population    GDP  Surface Area    HDI Continent\n",
      "Canada              35.467   1.84       9984670  0.913   America\n",
      "France              63.951   2.78        640679  0.888    Europe\n",
      "Germany             80.940   3.42        357114  0.916    Europe\n",
      "Italy               60.665   2.07        301336  0.873    Europe\n",
      "Japan              127.061   4.87        377930  0.891      Asia\n",
      "United Kingdom      64.511   2.62        242495  0.907    Europe\n",
      "United States      318.523  19.39       9525067  0.915   America\n"
     ]
    }
   ],
   "source": [
    "df = pd.DataFrame({\n",
    "    'Population': [35.467, 63.951, 80.94 , 60.665, 127.061, 64.511, 318.523], #it can also be set directly as GP8_POP this will asign the index of the series to the dataframe\n",
    "    'GDP': [\n",
    "        1.84, 2.78, 3.42, 2.07, 4.87, 2.62, 19.39\n",
    "    ], \n",
    "    'Surface Area': [\n",
    "        9984670, 640679, 357114, 301336, 377930, 242495, 9525067\n",
    "    ],\n",
    "    'HDI': [\n",
    "        0.913, 0.888, 0.916, 0.873, 0.891, 0.907, 0.915\n",
    "    ],\n",
    "    'Continent': [\n",
    "        'America', 'Europe', 'Europe', 'Europe', 'Asia', 'Europe', 'America'\n",
    "    ]\n",
    "}, \n",
    "columns=['Population', 'GDP', 'Surface Area', 'HDI', 'Continent'])\n",
    "\n",
    "print(df)\n",
    "#The index can be modifed an set to another column for example\n",
    "df.index = [\n",
    "    'Canada', 'France', 'Germany', 'Italy', 'Japan', 'United Kingdom',\n",
    "    'United States'\n",
    "]\n",
    "print(df)"
   ]
  },
  {
   "cell_type": "markdown",
   "metadata": {},
   "source": [
    "DataFrames also have indexes. As you can see in the 'table' above, pandas has assigned a numeric, autoincremental index automatically to each'row' in our dataframe. In our case, we know that ear row represents a country so we'll just reassigned the Indexes"
   ]
  },
  {
   "cell_type": "code",
   "execution_count": 38,
   "metadata": {},
   "outputs": [
    {
     "name": "stdout",
     "output_type": "stream",
     "text": [
      "Index(['Population', 'GDP', 'Surface Area', 'HDI', 'Continent'], dtype='object')\n",
      "Index(['Canada', 'France', 'Germany', 'Italy', 'Japan', 'United Kingdom',\n",
      "       'United States'],\n",
      "      dtype='object')\n",
      "<class 'pandas.core.frame.DataFrame'>\n",
      "Index: 7 entries, Canada to United States\n",
      "Data columns (total 5 columns):\n",
      " #   Column        Non-Null Count  Dtype  \n",
      "---  ------        --------------  -----  \n",
      " 0   Population    7 non-null      float64\n",
      " 1   GDP           7 non-null      float64\n",
      " 2   Surface Area  7 non-null      int64  \n",
      " 3   HDI           7 non-null      float64\n",
      " 4   Continent     7 non-null      object \n",
      "dtypes: float64(3), int64(1), object(1)\n",
      "memory usage: 336.0+ bytes\n",
      "None\n",
      "35\n",
      "(7, 5)\n",
      "       Population        GDP  Surface Area       HDI\n",
      "count    7.000000   7.000000  7.000000e+00  7.000000\n",
      "mean   107.302571   5.284286  3.061327e+06  0.900429\n",
      "std     97.249970   6.300568  4.576187e+06  0.016592\n",
      "min     35.467000   1.840000  2.424950e+05  0.873000\n",
      "25%     62.308000   2.345000  3.292250e+05  0.889500\n",
      "50%     64.511000   2.780000  3.779300e+05  0.907000\n",
      "75%    104.000500   4.145000  5.082873e+06  0.914000\n",
      "max    318.523000  19.390000  9.984670e+06  0.916000\n",
      "Population      float64\n",
      "GDP             float64\n",
      "Surface Area      int64\n",
      "HDI             float64\n",
      "Continent        object\n",
      "dtype: object\n",
      "float64    3\n",
      "int64      1\n",
      "object     1\n",
      "Name: count, dtype: int64\n"
     ]
    }
   ],
   "source": [
    "print(df.columns) # Index of the columns\n",
    "print(df.index) # Index of the rows\n",
    "print(df.info()) # General information of the dataframe\n",
    "print(df.size) # Number of elements in the dataframe\n",
    "print(df.shape) # Number of rows and columns\n",
    "print(df.describe()) # General statistics of the dataframe\n",
    "print(df.dtypes) # Data types of the columns\n",
    "print(df.dtypes.value_counts()) # Count of the data types"
   ]
  },
  {
   "cell_type": "markdown",
   "metadata": {},
   "source": [
    "Indexing, Selection and Slicing"
   ]
  },
  {
   "cell_type": "code",
   "execution_count": 42,
   "metadata": {},
   "outputs": [
    {
     "name": "stdout",
     "output_type": "stream",
     "text": [
      "Population       35.467\n",
      "GDP                1.84\n",
      "Surface Area    9984670\n",
      "HDI               0.913\n",
      "Continent       America\n",
      "Name: Canada, dtype: object\n",
      "Population       35.467\n",
      "GDP                1.84\n",
      "Surface Area    9984670\n",
      "HDI               0.913\n",
      "Continent       America\n",
      "Name: Canada, dtype: object\n",
      "Canada             35.467\n",
      "France             63.951\n",
      "Germany            80.940\n",
      "Italy              60.665\n",
      "Japan             127.061\n",
      "United Kingdom     64.511\n",
      "United States     318.523\n",
      "Name: Population, dtype: float64\n"
     ]
    }
   ],
   "source": [
    "#to select by index-name you use the loc method\n",
    "print(df.loc['Canada']) # Select the row by index\n",
    "\n",
    "#to select by index-numeric you use the iloc method\n",
    "print(df.iloc[0]) # Select the row by index\n",
    "\n",
    "print(df['Population']) # Select the column by name"
   ]
  },
  {
   "cell_type": "markdown",
   "metadata": {},
   "source": [
    "It can also be used the slicing operator"
   ]
  },
  {
   "cell_type": "code",
   "execution_count": 50,
   "metadata": {},
   "outputs": [
    {
     "data": {
      "text/html": [
       "<div>\n",
       "<style scoped>\n",
       "    .dataframe tbody tr th:only-of-type {\n",
       "        vertical-align: middle;\n",
       "    }\n",
       "\n",
       "    .dataframe tbody tr th {\n",
       "        vertical-align: top;\n",
       "    }\n",
       "\n",
       "    .dataframe thead th {\n",
       "        text-align: right;\n",
       "    }\n",
       "</style>\n",
       "<table border=\"1\" class=\"dataframe\">\n",
       "  <thead>\n",
       "    <tr style=\"text-align: right;\">\n",
       "      <th></th>\n",
       "      <th>Population</th>\n",
       "      <th>GDP</th>\n",
       "    </tr>\n",
       "  </thead>\n",
       "  <tbody>\n",
       "    <tr>\n",
       "      <th>France</th>\n",
       "      <td>63.951</td>\n",
       "      <td>2.78</td>\n",
       "    </tr>\n",
       "    <tr>\n",
       "      <th>Germany</th>\n",
       "      <td>80.940</td>\n",
       "      <td>3.42</td>\n",
       "    </tr>\n",
       "    <tr>\n",
       "      <th>Italy</th>\n",
       "      <td>60.665</td>\n",
       "      <td>2.07</td>\n",
       "    </tr>\n",
       "  </tbody>\n",
       "</table>\n",
       "</div>"
      ],
      "text/plain": [
       "         Population   GDP\n",
       "France       63.951  2.78\n",
       "Germany      80.940  3.42\n",
       "Italy        60.665  2.07"
      ]
     },
     "execution_count": 50,
     "metadata": {},
     "output_type": "execute_result"
    }
   ],
   "source": [
    "df.loc['France':'Italy'] # Select the rows by index range\n",
    "df.iloc[1:3] # Select the rows by index range\n",
    "\n",
    "df.loc['France':'Italy', 'Population'] # Select the rows by index range and column\n",
    "df.iloc[1:3, 0] # Select the rows by index range and column\n",
    "\n",
    "df.loc['France':'Italy', ['Population', 'GDP']] # Select the rows by index range and columns\n",
    "df.iloc[1:4, [0, 1]] # Select the rows by index range and columns"
   ]
  }
 ],
 "metadata": {
  "kernelspec": {
   "display_name": "Flask_entorno",
   "language": "python",
   "name": "python3"
  },
  "language_info": {
   "codemirror_mode": {
    "name": "ipython",
    "version": 3
   },
   "file_extension": ".py",
   "mimetype": "text/x-python",
   "name": "python",
   "nbconvert_exporter": "python",
   "pygments_lexer": "ipython3",
   "version": "3.12.4"
  }
 },
 "nbformat": 4,
 "nbformat_minor": 2
}

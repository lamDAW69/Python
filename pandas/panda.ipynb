{
 "cells": [
  {
   "cell_type": "code",
   "execution_count": 9,
   "metadata": {},
   "outputs": [
    {
     "name": "stdout",
     "output_type": "stream",
     "text": [
      "0     35.467\n",
      "1     63.951\n",
      "2     80.940\n",
      "3     60.665\n",
      "4    127.061\n",
      "5     64.511\n",
      "6    318.523\n",
      "dtype: float64\n",
      "0     35.467\n",
      "1     63.951\n",
      "2     80.940\n",
      "3     60.665\n",
      "4    127.061\n",
      "5     64.511\n",
      "6    318.523\n",
      "Name: G7 Population in millions, dtype: float64\n",
      "RangeIndex(start=0, stop=7, step=1)\n"
     ]
    }
   ],
   "source": [
    "import pandas as pd \n",
    "import numpy as np\n",
    "\n",
    "\n",
    "g7_pop = pd.Series([35.467, 63.951, 80.940, 60.665, 127.061, 64.511, 318.523])\n",
    "print(g7_pop)\n",
    "g7_pop.name = 'G7 Population in millions' # name of the series\n",
    "print(g7_pop)\n",
    "\n",
    "print(g7_pop.index) # RangeIndex(start=0, stop=7, step=1)\n",
    "\n",
    "\n"
   ]
  },
  {
   "cell_type": "markdown",
   "metadata": {},
   "source": [
    "Se puede cambiar el índece de la serie "
   ]
  },
  {
   "cell_type": "code",
   "execution_count": 16,
   "metadata": {},
   "outputs": [
    {
     "name": "stdout",
     "output_type": "stream",
     "text": [
      "Canada             35.467\n",
      "France             63.951\n",
      "Germany            80.940\n",
      "Italy              60.665\n",
      "Japan             127.061\n",
      "United Kingdom     64.511\n",
      "United States     318.523\n",
      "Name: G7 Population in millions, dtype: float64\n",
      "35.467\n",
      "Canada             35.467\n",
      "France             63.951\n",
      "Germany            80.940\n",
      "Italy              60.665\n",
      "Japan             127.061\n",
      "United Kingdom     64.511\n",
      "United States     318.523\n",
      "Name: The G8 Population in millions, dtype: float64\n",
      "35.467\n"
     ]
    }
   ],
   "source": [
    "g7_pop.index = [\n",
    "    'Canada',\n",
    "    'France',\n",
    "    'Germany',\n",
    "    'Italy',\n",
    "    'Japan',\n",
    "    'United Kingdom',\n",
    "    'United States'\n",
    "]\n",
    "print(g7_pop)\n",
    "print(g7_pop['Canada'])\n",
    "\n",
    "\n",
    "#También puedo crear el indice pasándolo como parámetros\n",
    "\n",
    "g8_pop = pd.Series([\n",
    "    35.467, 63.951, 80.94, 60.665, 127.061, 64.511, 318.523\n",
    "], index=[\n",
    "    'Canada', 'France', 'Germany', 'Italy', 'Japan', 'United Kingdom',\n",
    "    'United States'\n",
    "], \n",
    "name = \"The G8 Population in millions\")\n",
    "print(g8_pop)\n",
    "\n",
    "print(g8_pop['Canada'])\n"
   ]
  },
  {
   "cell_type": "markdown",
   "metadata": {},
   "source": [
    "Aún se pueden obtener los datos por orden secuencia (0-1-2-3-4-5-6-7)"
   ]
  },
  {
   "cell_type": "code",
   "execution_count": 23,
   "metadata": {},
   "outputs": [
    {
     "name": "stdout",
     "output_type": "stream",
     "text": [
      "35.467\n",
      "318.523\n",
      "Canada             35.467\n",
      "France             63.951\n",
      "Germany            80.940\n",
      "Italy              60.665\n",
      "Japan             127.061\n",
      "United Kingdom     64.511\n",
      "United States     318.523\n",
      "Name: The G8 Population in millions, dtype: float64\n",
      "Canada    35.467\n",
      "Italy     60.665\n",
      "Name: The G8 Population in millions, dtype: float64\n",
      "Canada    35.467\n",
      "Italy     60.665\n",
      "Name: The G8 Population in millions, dtype: float64\n"
     ]
    }
   ],
   "source": [
    "print(g8_pop.iloc[0])\n",
    "print(g8_pop.iloc[-1])\n",
    "print(g8_pop)\n",
    "print(g8_pop[['Canada', 'Italy']]) # Seleccionar varios elementos del diccionario\n",
    "#También puede realizarse de la siguientne manera por posición\n",
    "print(g8_pop.iloc[[0, 3]])"
   ]
  },
  {
   "cell_type": "markdown",
   "metadata": {},
   "source": [
    "También srive para slice dentro de la serie"
   ]
  },
  {
   "cell_type": "code",
   "execution_count": 25,
   "metadata": {},
   "outputs": [
    {
     "name": "stdout",
     "output_type": "stream",
     "text": [
      "Canada     35.467\n",
      "France     63.951\n",
      "Germany    80.940\n",
      "Italy      60.665\n",
      "Name: The G8 Population in millions, dtype: float64\n"
     ]
    }
   ],
   "source": [
    "print(g8_pop['Canada': 'Italy']) # Seleccionar un rango de elementos\n"
   ]
  },
  {
   "cell_type": "markdown",
   "metadata": {},
   "source": [
    "Boolean arrays//Boolean series to perform operations on top of series"
   ]
  },
  {
   "cell_type": "code",
   "execution_count": 29,
   "metadata": {},
   "outputs": [
    {
     "name": "stdout",
     "output_type": "stream",
     "text": [
      "107.30257142857144\n",
      "97.24996987121581\n",
      "Japan            127.061\n",
      "United States    318.523\n",
      "Name: The G8 Population in millions, dtype: float64\n",
      "France             63.951\n",
      "Germany            80.940\n",
      "Italy              60.665\n",
      "Japan             127.061\n",
      "United Kingdom     64.511\n",
      "United States     318.523\n",
      "Name: The G8 Population in millions, dtype: float64\n"
     ]
    }
   ],
   "source": [
    "print (g8_pop.mean())\n",
    "print (g8_pop.std())\n",
    "print (g8_pop[g8_pop > g8_pop.mean()]) # Seleccionar los elementos que son mayores al promedio\n",
    "print (g8_pop[(g8_pop > g8_pop.mean() - g8_pop.std() / 2) | (g8_pop > g8_pop.mean() + g8_pop.std() / 2)]) # Seleccionar los elementos que estan a media desviación estándar del promedio"
   ]
  },
  {
   "cell_type": "markdown",
   "metadata": {},
   "source": [
    "Operaciones y métodos"
   ]
  },
  {
   "cell_type": "code",
   "execution_count": 32,
   "metadata": {},
   "outputs": [
    {
     "name": "stdout",
     "output_type": "stream",
     "text": [
      "Canada             35467000.0\n",
      "France             63951000.0\n",
      "Germany            80940000.0\n",
      "Italy              60665000.0\n",
      "Japan             127061000.0\n",
      "United Kingdom     64511000.0\n",
      "United States     318523000.0\n",
      "Name: The G8 Population in millions, dtype: float64\n",
      "France     4089.730401\n",
      "Germany    6551.283600\n",
      "Italy      3680.242225\n",
      "Name: The G8 Population in millions, dtype: float64\n",
      "Canada            False\n",
      "France            False\n",
      "Germany            True\n",
      "Italy             False\n",
      "Japan              True\n",
      "United Kingdom    False\n",
      "United States      True\n",
      "Name: The G8 Population in millions, dtype: bool\n",
      "Canada            35.467\n",
      "France            63.951\n",
      "Germany           99.000\n",
      "Italy             60.665\n",
      "Japan             99.000\n",
      "United Kingdom    64.511\n",
      "United States     99.000\n",
      "Name: The G8 Population in millions, dtype: float64\n"
     ]
    }
   ],
   "source": [
    "print(g8_pop * 1_000_000) # Multiplicar todos los elementos por un millón\n",
    "\n",
    "print(g8_pop['France': 'Italy'] ** 2) # Elevar al cuadrado los elementos del rango\n",
    "\n",
    "print(g8_pop > 70) # Verificar si los elementos son mayores a 70 (Sacaría por consola true or false)\n",
    "\n",
    "g8_pop[g8_pop > 70] = 99 # Cambiar los elementos mayores a 70 por 99\n",
    "print(g8_pop) # Seleccionar los elementos que son mayores a 70"
   ]
  }
 ],
 "metadata": {
  "kernelspec": {
   "display_name": "Flask_entorno",
   "language": "python",
   "name": "python3"
  },
  "language_info": {
   "codemirror_mode": {
    "name": "ipython",
    "version": 3
   },
   "file_extension": ".py",
   "mimetype": "text/x-python",
   "name": "python",
   "nbconvert_exporter": "python",
   "pygments_lexer": "ipython3",
   "version": "3.12.4"
  }
 },
 "nbformat": 4,
 "nbformat_minor": 2
}

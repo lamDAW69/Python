{
 "cells": [
  {
   "cell_type": "markdown",
   "metadata": {},
   "source": [
    "El propósito principal del módulo abc es proporcionar una infraestructura para definir clases base abstractas (CBAs). Una clase base   abstracta es una clase que no puede ser instanciada directamente y está diseñada para ser heredada por otras clases. Estas clases pueden   definir métodos abstractos que deben ser implementados por cualquier clase derivada.  "
   ]
  },
  {
   "cell_type": "code",
   "execution_count": 2,
   "metadata": {},
   "outputs": [],
   "source": [
    "from abc import ABC, abstractmethod\n",
    "\n",
    "class Animal(ABC):\n",
    "    @abstractmethod\n",
    "    def sound(self):\n",
    "        pass\n",
    "\n",
    "class Dog(Animal):\n",
    "    def sound(self):\n",
    "        return \"Woof!\"\n",
    "\n",
    "class Cat(Animal):\n",
    "    def sound(self):\n",
    "        return \"Meow\"\n"
   ]
  },
  {
   "cell_type": "code",
   "execution_count": 3,
   "metadata": {},
   "outputs": [
    {
     "ename": "TypeError",
     "evalue": "Can't instantiate abstract class Animal without an implementation for abstract method 'sound'",
     "output_type": "error",
     "traceback": [
      "\u001b[0;31m---------------------------------------------------------------------------\u001b[0m",
      "\u001b[0;31mTypeError\u001b[0m                                 Traceback (most recent call last)",
      "Cell \u001b[0;32mIn[3], line 1\u001b[0m\n\u001b[0;32m----> 1\u001b[0m a \u001b[38;5;241m=\u001b[39m Animal()\n",
      "\u001b[0;31mTypeError\u001b[0m: Can't instantiate abstract class Animal without an implementation for abstract method 'sound'"
     ]
    }
   ],
   "source": [
    "a = Animal()"
   ]
  },
  {
   "cell_type": "code",
   "execution_count": 4,
   "metadata": {},
   "outputs": [
    {
     "name": "stdout",
     "output_type": "stream",
     "text": [
      "Factura electrónica para Cliente XYZ\n",
      "Item: Producto 1, Precio: 100\n",
      "Item: Producto 2, Precio: 200\n",
      "Total a pagar: 300\n"
     ]
    }
   ],
   "source": [
    "from abc import ABC, abstractmethod\n",
    "\n",
    "class Factura(ABC):\n",
    "    @abstractmethod\n",
    "    def generar_factura(self, cliente, items):\n",
    "        pass\n",
    "\n",
    "    @abstractmethod\n",
    "    def calcular_total(self):\n",
    "        pass\n",
    "\n",
    "class FacturaElectronica(Factura):\n",
    "    def __init__(self):\n",
    "        self.cliente = None\n",
    "        self.items = []\n",
    "        self.total = 0\n",
    "\n",
    "    def generar_factura(self, cliente, items):\n",
    "        self.cliente = cliente\n",
    "        self.items = items\n",
    "        print(f\"Factura electrónica para {cliente}\")\n",
    "        for item in items:\n",
    "            print(f\"Item: {item['descripcion']}, Precio: {item['precio']}\")\n",
    "        self.calcular_total()\n",
    "\n",
    "    def calcular_total(self):\n",
    "        self.total = sum(item['precio'] for item in self.items)\n",
    "        print(f\"Total a pagar: {self.total}\")\n",
    "\n",
    "# Ejemplo de uso\n",
    "items = [\n",
    "    {\"descripcion\": \"Producto 1\", \"precio\": 100},\n",
    "    {\"descripcion\": \"Producto 2\", \"precio\": 200},\n",
    "]\n",
    "\n",
    "factura = FacturaElectronica()\n",
    "factura.generar_factura(\"Cliente XYZ\", items)\n"
   ]
  },
  {
   "cell_type": "code",
   "execution_count": 5,
   "metadata": {},
   "outputs": [],
   "source": [
    "from abc import ABC, abstractmethod\n",
    "\n",
    "class Factura(ABC):\n",
    "    @abstractmethod\n",
    "    def generar_factura(self, cliente, items):\n",
    "        pass\n",
    "\n",
    "    @abstractmethod\n",
    "    def calcular_total(self):\n",
    "        pass\n",
    "\n",
    "class FacturaElectronica(Factura):\n",
    "    def __init__(self):\n",
    "        self.cliente = None\n",
    "        self.items = []\n",
    "        self.total = 0\n",
    "\n",
    "    def generar_factura(self, cliente, items):\n",
    "        self.cliente = cliente\n",
    "        self.items = items\n",
    "        print(f\"Generando factura electrónica para {cliente}\")\n",
    "        for item in items:\n",
    "            print(f\"Item: {item['descripcion']}, Precio: {item['precio']}\")\n",
    "        self.calcular_total()\n",
    "\n",
    "    def calcular_total(self):\n",
    "        self.total = sum(item['precio'] for item in self.items)\n",
    "        print(f\"Total a pagar: {self.total}\")\n",
    "\n",
    "class FacturaPapel(Factura):\n",
    "    def __init__(self):\n",
    "        self.cliente = None\n",
    "        self.items = []\n",
    "        self.total = 0\n",
    "\n",
    "    def generar_factura(self, cliente, items):\n",
    "        self.cliente = cliente\n",
    "        self.items = items\n",
    "        print(f\"Generando factura en papel para {cliente}\")\n",
    "        for item in items:\n",
    "            print(f\"Item: {item['descripcion']}, Precio: {item['precio']}\")\n",
    "        self.calcular_total()\n",
    "\n",
    "    def calcular_total(self):\n",
    "        self.total = sum(item['precio'] for item in self.items)\n",
    "        print(f\"Total a pagar: {self.total}\")\n"
   ]
  },
  {
   "cell_type": "code",
   "execution_count": 6,
   "metadata": {},
   "outputs": [
    {
     "name": "stdout",
     "output_type": "stream",
     "text": [
      "Generando factura electrónica para Cliente XYZ\n",
      "Item: Producto 1, Precio: 100\n",
      "Item: Producto 2, Precio: 200\n",
      "Total a pagar: 300\n",
      "Generando factura en papel para Cliente ABC\n",
      "Item: Producto 1, Precio: 100\n",
      "Item: Producto 2, Precio: 200\n",
      "Total a pagar: 300\n"
     ]
    }
   ],
   "source": [
    "\n",
    "# Función que procesa cualquier tipo de factura\n",
    "def procesar_factura(factura: Factura, cliente, items):\n",
    "    factura.generar_factura(cliente, items)\n",
    "\n",
    "# Ejemplo de uso\n",
    "items = [\n",
    "    {\"descripcion\": \"Producto 1\", \"precio\": 100},\n",
    "    {\"descripcion\": \"Producto 2\", \"precio\": 200},\n",
    "]\n",
    "\n",
    "factura_electronica = FacturaElectronica()\n",
    "factura_papel = FacturaPapel()\n",
    "\n",
    "procesar_factura(factura_electronica, \"Cliente XYZ\", items)\n",
    "procesar_factura(factura_papel, \"Cliente ABC\", items)\n"
   ]
  }
 ],
 "metadata": {
  "kernelspec": {
   "display_name": "base",
   "language": "python",
   "name": "python3"
  },
  "language_info": {
   "codemirror_mode": {
    "name": "ipython",
    "version": 3
   },
   "file_extension": ".py",
   "mimetype": "text/x-python",
   "name": "python",
   "nbconvert_exporter": "python",
   "pygments_lexer": "ipython3",
   "version": "3.12.4"
  }
 },
 "nbformat": 4,
 "nbformat_minor": 2
}

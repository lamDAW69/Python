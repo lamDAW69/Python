{
 "cells": [
  {
   "cell_type": "markdown",
   "metadata": {},
   "source": [
    "Patrón Singleton  \n",
    "\n",
    "El patrón Singleton asegura que una clase tenga solo una instancia y proporciona un punto de acceso global a ella. Es útil cuando necesitas exactamente un objeto para coordinar acciones en todo el sistema.  "
   ]
  },
  {
   "cell_type": "code",
   "execution_count": 1,
   "metadata": {},
   "outputs": [
    {
     "name": "stdout",
     "output_type": "stream",
     "text": [
      "True\n",
      "Ejecutando consulta 'SELECT * FROM coches' en Conexión a la base de datos del taller\n"
     ]
    }
   ],
   "source": [
    "class GestorDB:\n",
    "    _instancia = None\n",
    "\n",
    "    def __new__(cls):\n",
    "        if cls._instancia is None:\n",
    "            cls._instancia = super().__new__(cls)\n",
    "            cls._instancia.conexion = \"Conexión a la base de datos del taller\"\n",
    "        return cls._instancia\n",
    "\n",
    "    def ejecutar_consulta(self, consulta):\n",
    "        print(f\"Ejecutando consulta '{consulta}' en {self.conexion}\")\n",
    "\n",
    "# Uso\n",
    "gestor1 = GestorDB()\n",
    "gestor2 = GestorDB()\n",
    "print(gestor1 is gestor2)  # True\n",
    "gestor1.ejecutar_consulta(\"SELECT * FROM coches\")"
   ]
  },
  {
   "cell_type": "markdown",
   "metadata": {},
   "source": [
    "Patrón Factory Method  \n",
    "\n",
    "Factory Method define una interfaz para crear un objeto, pero deja que las subclases decidan qué clase instanciar. Permite que una clase delegue la creación de instancias a sus subclases."
   ]
  },
  {
   "cell_type": "code",
   "execution_count": 3,
   "metadata": {},
   "outputs": [
    {
     "name": "stdout",
     "output_type": "stream",
     "text": [
      "Realizando cambio de lunas\n"
     ]
    }
   ],
   "source": [
    "from abc import ABC, abstractmethod\n",
    "\n",
    "class Servicio(ABC):\n",
    "    @abstractmethod\n",
    "    def realizar(self):\n",
    "        pass\n",
    "\n",
    "class CambioAceite(Servicio):\n",
    "    def realizar(self):\n",
    "        return \"Realizando cambio de aceite\"\n",
    "\n",
    "class RevisionFrenos(Servicio):\n",
    "    def realizar(self):\n",
    "        return \"Realizando revisión de frenos\"\n",
    "    \n",
    "class CambiarLunas(Servicio):\n",
    " def realizar(self):\n",
    "        return \"Realizando cambio de lunas\"\n",
    "    \n",
    "\n",
    "class FabricaServicios:\n",
    "    def crear_servicio(self, tipo):\n",
    "        if tipo == \"aceite\":\n",
    "            return CambioAceite()\n",
    "        elif tipo == \"frenos\":\n",
    "            return RevisionFrenos()\n",
    "        \n",
    "        elif tipo == \"lunas\":\n",
    "            return CambiarLunas()\n",
    "        else:\n",
    "            raise ValueError(\"Tipo de servicio no reconocido\")\n",
    "\n",
    "# Uso\n",
    "fabrica = FabricaServicios()\n",
    "servicio1 = fabrica.crear_servicio(\"lunas\")\n",
    "print(servicio1.realizar())  # Realizando cambio de aceite"
   ]
  },
  {
   "cell_type": "markdown",
   "metadata": {},
   "source": [
    "Patrón Observer  \n",
    "\n",
    "Observer define una dependencia uno-a-muchos entre objetos, de modo que cuando un objeto cambia su estado, todos sus dependientes son notificados y actualizados automáticamente.  "
   ]
  },
  {
   "cell_type": "code",
   "execution_count": 4,
   "metadata": {},
   "outputs": [],
   "source": [
    "class Servicio:\n",
    "    def __init__(self):\n",
    "        self.observadores = []\n",
    "        self._estado = None\n",
    "\n",
    "    def agregar_observador(self, observador):\n",
    "        self.observadores.append(observador)\n",
    "\n",
    "    def notificar(self):\n",
    "        for observador in self.observadores:\n",
    "            observador.actualizar(self)\n",
    "\n",
    "    @property\n",
    "    def estado(self):\n",
    "        return self._estado\n",
    "\n",
    "    @estado.setter\n",
    "    def estado(self, valor):\n",
    "        self._estado = valor        \n",
    "        self.notificar()\n",
    "\n",
    "class Departamento(ABC):\n",
    "    @abstractmethod\n",
    "    def actualizar(self, servicio):\n",
    "        pass\n",
    "\n",
    "class Facturacion(Departamento):\n",
    "    def actualizar(self, servicio):\n",
    "        print(\"He actualizado y soy Facturación\")\n",
    "\n",
    "class Inventario(Departamento):\n",
    "    def actualizar(self, servicio):\n",
    "        print(\"He actualizado y soy Inventario\")\n",
    "\n",
    "\n",
    "# Uso\n",
    "servicio = Servicio()\n",
    "servicio.agregar_observador(Facturacion())\n",
    "servicio.agregar_observador(Inventario())\n",
    "\n",
    "servicio.estado = \"completado\""
   ]
  },
  {
   "cell_type": "markdown",
   "metadata": {},
   "source": [
    "Patrón Strategy  \n",
    "\n",
    "Strategy define una familia de algoritmos, encapsula cada uno y los hace intercambiables. Permite que el algoritmo varíe independientemente de los clientes que lo usan.  "
   ]
  },
  {
   "cell_type": "code",
   "execution_count": 3,
   "metadata": {},
   "outputs": [
    {
     "name": "stdout",
     "output_type": "stream",
     "text": [
      "Precio con descuento regular: 900.0\n",
      "Precio con descuento premium: 800.0\n"
     ]
    }
   ],
   "source": [
    "from abc import ABC, abstractmethod\n",
    "\n",
    "class EstrategiaDescuento(ABC):\n",
    "    @abstractmethod\n",
    "    def calcular(self, monto):\n",
    "        pass\n",
    "\n",
    "class DescuentoRegular(EstrategiaDescuento):\n",
    "    def calcular(self, monto):\n",
    "        return monto * 0.1\n",
    "\n",
    "class DescuentoPremium(EstrategiaDescuento):\n",
    "    def calcular(self, monto):\n",
    "        return monto * 0.2\n",
    "\n",
    "class CalculadorPrecio:\n",
    "    def __init__(self, estrategia):\n",
    "        self.estrategia = estrategia\n",
    "\n",
    "    def calcular_precio_final(self, precio_base):\n",
    "        descuento = self.estrategia.calcular(precio_base)\n",
    "        return precio_base - descuento\n",
    "\n",
    "# Uso\n",
    "precio_base = 1000\n",
    "calculador_regular = CalculadorPrecio(DescuentoRegular())\n",
    "calculador_premium = CalculadorPrecio(DescuentoPremium())\n",
    "\n",
    "print(f\"Precio con descuento regular: {calculador_regular.calcular_precio_final(precio_base)}\")\n",
    "print(f\"Precio con descuento premium: {calculador_premium.calcular_precio_final(precio_base)}\")"
   ]
  },
  {
   "cell_type": "markdown",
   "metadata": {},
   "source": [
    "Patrón Decorator  \n",
    "\n",
    "Decorator añade responsabilidades adicionales a un objeto dinámicamente. Proporciona una alternativa flexible a la herencia para extender la funcionalidad.  "
   ]
  },
  {
   "cell_type": "code",
   "execution_count": 4,
   "metadata": {},
   "outputs": [
    {
     "name": "stdout",
     "output_type": "stream",
     "text": [
      "Descripción: Servicio básico, con revisión adicional, con lavado completo\n",
      "Costo total: $180\n"
     ]
    }
   ],
   "source": [
    "class ServicioBase:\n",
    "    def get_descripcion(self):\n",
    "        return \"Servicio básico\"\n",
    "\n",
    "    def get_costo(self):\n",
    "        return 100\n",
    "\n",
    "class RevisionAdicional(ServicioBase):\n",
    "    def __init__(self, servicio):\n",
    "        self.servicio = servicio\n",
    "\n",
    "    def get_descripcion(self):\n",
    "        return f\"{self.servicio.get_descripcion()}, con revisión adicional\"\n",
    "\n",
    "    def get_costo(self):\n",
    "        return self.servicio.get_costo() + 50\n",
    "\n",
    "class LavadoCompleto(ServicioBase):\n",
    "    def __init__(self, servicio):\n",
    "        self.servicio = servicio\n",
    "\n",
    "    def get_descripcion(self):\n",
    "        return f\"{self.servicio.get_descripcion()}, con lavado completo\"\n",
    "\n",
    "    def get_costo(self):\n",
    "        return self.servicio.get_costo() + 30\n",
    "\n",
    "# Uso\n",
    "servicio = ServicioBase()\n",
    "servicio = RevisionAdicional(servicio)\n",
    "servicio = LavadoCompleto(servicio)\n",
    "\n",
    "print(f\"Descripción: {servicio.get_descripcion()}\")\n",
    "print(f\"Costo total: ${servicio.get_costo()}\")"
   ]
  }
 ],
 "metadata": {
  "kernelspec": {
   "display_name": "base",
   "language": "python",
   "name": "python3"
  },
  "language_info": {
   "codemirror_mode": {
    "name": "ipython",
    "version": 3
   },
   "file_extension": ".py",
   "mimetype": "text/x-python",
   "name": "python",
   "nbconvert_exporter": "python",
   "pygments_lexer": "ipython3",
   "version": "3.12.4"
  }
 },
 "nbformat": 4,
 "nbformat_minor": 2
}

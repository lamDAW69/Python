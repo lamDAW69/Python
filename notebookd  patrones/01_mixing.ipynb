{
 "cells": [
  {
   "cell_type": "markdown",
   "metadata": {},
   "source": [
    "Qué son las clases mixin?  \n",
    "\n",
    "Las clases mixin son una forma de reutilizar código en múltiples clases sin necesidad de una herencia múltiple compleja. Un mixin es una   clase que proporciona métodos que pueden ser utilizados por otras clases a través de la herencia, pero que no está destinada a ser   instanciada por sí misma. Los mixins permiten agregar funcionalidades específicas a las clases de manera modular.  \n",
    "Características de los mixins  \n",
    "* Reutilización de código: Permiten compartir métodos y atributos entre varias clases.  \n",
    "* Modularidad: Facilitan la adición de funcionalidades específicas sin afectar la jerarquía de herencia principal.  \n",
    "* Flexibilidad: Pueden ser combinados con otras clases y mixins para crear clases más complejas.  \n"
   ]
  },
  {
   "cell_type": "code",
   "execution_count": 1,
   "metadata": {},
   "outputs": [],
   "source": [
    "class SaveMixin:\n",
    "    def save(self, filename):\n",
    "        with open(filename, 'w') as file:\n",
    "            file.write(str(self))\n",
    "        print(f\"Datos guardados en {filename}\")\n",
    "\n",
    "class LoadMixin:\n",
    "    def load(self, filename):\n",
    "        with open(filename, 'r') as file:\n",
    "            data = file.read()\n",
    "        print(f\"Datos cargados de {filename}\")\n",
    "        return data\n",
    "\n",
    "class PrintMixin:\n",
    "    def print_info(self):\n",
    "        print(f\"Información: {self}\")\n",
    "\n",
    "class MyClass(SaveMixin, LoadMixin, PrintMixin):\n",
    "    def __init__(self, data):\n",
    "        self.data = data\n",
    "\n",
    "    def __str__(self):\n",
    "        return self.data\n",
    "\n",
    "\n"
   ]
  },
  {
   "cell_type": "code",
   "execution_count": 9,
   "metadata": {},
   "outputs": [],
   "source": [
    "from abc import ABC, abstractmethod\n",
    "\n",
    "class IOManagement(ABC):\n",
    "    @abstractmethod\n",
    "    def save(self, filename):\n",
    "        pass\n",
    "\n",
    "    @abstractmethod\n",
    "    def load(self, filename):\n",
    "        pass\n",
    "\n",
    "    @abstractmethod\n",
    "    def print_info(self, filename):\n",
    "        pass\n",
    "\n",
    "\n",
    "class JsonIOManagement(IOManagement):\n",
    "    def save(self, filename):\n",
    "        with open(filename, 'w') as file:\n",
    "            file.write(str(self))\n",
    "        print(f\"Datos guardados en {filename}\")\n",
    "\n",
    "    def load(self, filename):\n",
    "        with open(filename, 'r') as file:\n",
    "            data = file.read()\n",
    "        print(f\"Datos cargados de {filename}\")\n",
    "        return data\n",
    "    def print_info(self):\n",
    "        print(f\"Información: {self}\")\n",
    "\n",
    "    def get_stats(self):\n",
    "        pass\n",
    "\n",
    "\n",
    "\n",
    "class CSVIOManagement(IOManagement):\n",
    "    def save(self, filename):\n",
    "        with open(filename, 'w') as file:\n",
    "            file.write(str(self))\n",
    "        print(f\"Datos guardados en {filename}\")\n",
    "\n",
    "    def load(self, filename):\n",
    "        with open(filename, 'r') as file:\n",
    "            data = file.read()\n",
    "        print(f\"Datos cargados de {filename}\")\n",
    "        return data\n",
    "    def print_info(self):\n",
    "        print(f\"Información: {self}\")    \n",
    "\n",
    "class RedisIOManagement(IOManagement):\n",
    "    pass\n",
    "\n",
    "class RedisManagementEmpresaPepito(RedisIOManagement):\n",
    "    def conection(self):\n",
    "        pass\n",
    "\n",
    "    \n",
    "class MyClass(JsonManagement, CSVManagement,RedisManagementEmpresaPepito):\n",
    "    def __init__(self, data):\n",
    "        self.data = data\n",
    "\n",
    "    def __str__(self):\n",
    "        return self.data\n",
    "    \n",
    "\n",
    "    \n",
    "\n",
    "\n",
    "\n",
    "\n",
    "\n"
   ]
  },
  {
   "cell_type": "code",
   "execution_count": 11,
   "metadata": {},
   "outputs": [],
   "source": [
    "class IOInvoice(ABC,JsonManagement, CSVManagement):\n",
    "    @abstractmethod\n",
    "    def get_invoices(self):\n",
    "        pass\n",
    "\n",
    "\n"
   ]
  },
  {
   "cell_type": "code",
   "execution_count": 12,
   "metadata": {},
   "outputs": [],
   "source": [
    "class WaterInvoice(IOInvoice):\n",
    "    def get_invoices(self):\n",
    "        # Me conecto a Mysql y cargo las facturas.\n",
    "        # Posteriormente ejecuto.\n",
    "        self.save(\"nombre.json\")\n",
    "        "
   ]
  },
  {
   "cell_type": "code",
   "execution_count": null,
   "metadata": {},
   "outputs": [],
   "source": [
    "class WaterInvoice(IOInvoice):\n",
    "    def get_invoices(self):\n",
    "        pass"
   ]
  },
  {
   "cell_type": "code",
   "execution_count": 3,
   "metadata": {},
   "outputs": [
    {
     "ename": "TypeError",
     "evalue": "Can't instantiate abstract class IOManagement without an implementation for abstract methods 'load', 'print_info', 'save'",
     "output_type": "error",
     "traceback": [
      "\u001b[0;31m---------------------------------------------------------------------------\u001b[0m",
      "\u001b[0;31mTypeError\u001b[0m                                 Traceback (most recent call last)",
      "Cell \u001b[0;32mIn[3], line 1\u001b[0m\n\u001b[0;32m----> 1\u001b[0m a \u001b[38;5;241m=\u001b[39m IOManagement()\n",
      "\u001b[0;31mTypeError\u001b[0m: Can't instantiate abstract class IOManagement without an implementation for abstract methods 'load', 'print_info', 'save'"
     ]
    }
   ],
   "source": [
    "a = IOManagement()"
   ]
  },
  {
   "cell_type": "code",
   "execution_count": 2,
   "metadata": {},
   "outputs": [
    {
     "name": "stdout",
     "output_type": "stream",
     "text": [
      "Información: Ejemplo de datos\n",
      "Datos guardados en datos.txt\n",
      "Datos cargados de datos.txt\n"
     ]
    }
   ],
   "source": [
    "\n",
    "obj = MyClass(\"Ejemplo de datos\")\n",
    "obj.print_info()\n",
    "obj.save(\"datos.txt\")\n",
    "cargados = obj.load(\"datos.txt\")"
   ]
  }
 ],
 "metadata": {
  "kernelspec": {
   "display_name": "base",
   "language": "python",
   "name": "python3"
  },
  "language_info": {
   "codemirror_mode": {
    "name": "ipython",
    "version": 3
   },
   "file_extension": ".py",
   "mimetype": "text/x-python",
   "name": "python",
   "nbconvert_exporter": "python",
   "pygments_lexer": "ipython3",
   "version": "3.12.4"
  }
 },
 "nbformat": 4,
 "nbformat_minor": 2
}

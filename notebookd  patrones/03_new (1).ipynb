{
 "cells": [
  {
   "cell_type": "markdown",
   "metadata": {},
   "source": [
    " en Python existe el método mágico __new__. Este método es responsable de crear una nueva instancia de una clase antes de que se inicialice. Es un método estático que toma la clase como su primer argumento y devuelve una nueva instancia de esa clase"
   ]
  },
  {
   "cell_type": "code",
   "execution_count": 2,
   "metadata": {},
   "outputs": [],
   "source": [
    "class MiClase:\n",
    "    def __new__(cls, *args, **kwargs):\n",
    "        print(\"Creando una nueva instancia de MiClase\")\n",
    "        instance = super().__new__(cls)\n",
    "        return instance\n",
    "\n",
    "    def __init__(self, dni):\n",
    "        print(\"Inicializando la instancia\")\n",
    "        self.dni = dni\n",
    "\n"
   ]
  },
  {
   "cell_type": "code",
   "execution_count": 4,
   "metadata": {},
   "outputs": [
    {
     "name": "stdout",
     "output_type": "stream",
     "text": [
      "Creando una nueva instancia de MiClase\n",
      "Inicializando la instancia\n"
     ]
    }
   ],
   "source": [
    "objeto = MiClase(\"Ejemplo\")"
   ]
  },
  {
   "cell_type": "code",
   "execution_count": 2,
   "metadata": {},
   "outputs": [
    {
     "name": "stdout",
     "output_type": "stream",
     "text": [
      "Creando una instancia de MiEntero\n"
     ]
    }
   ],
   "source": [
    "# SUBCLASES DE TIPO INMUTABLE\n",
    "class MiEntero(int):\n",
    "    def __new__(cls, valor):\n",
    "        print(\"Creando una instancia de MiEntero\")\n",
    "        return super().__new__(cls, valor)\n",
    "\n",
    "mi_numero = MiEntero(10)"
   ]
  },
  {
   "cell_type": "code",
   "execution_count": 5,
   "metadata": {},
   "outputs": [
    {
     "ename": "ValueError",
     "evalue": "El valor debe ser positivo",
     "output_type": "error",
     "traceback": [
      "\u001b[0;31m---------------------------------------------------------------------------\u001b[0m",
      "\u001b[0;31mValueError\u001b[0m                                Traceback (most recent call last)",
      "Cell \u001b[0;32mIn[5], line 8\u001b[0m\n\u001b[1;32m      5\u001b[0m         \u001b[38;5;28;01mreturn\u001b[39;00m \u001b[38;5;28msuper\u001b[39m()\u001b[38;5;241m.\u001b[39m\u001b[38;5;21m__new__\u001b[39m(\u001b[38;5;28mcls\u001b[39m, valor)\n\u001b[1;32m      7\u001b[0m mi_numero \u001b[38;5;241m=\u001b[39m MiEntero(\u001b[38;5;241m10\u001b[39m)  \u001b[38;5;66;03m# Esto funcionará\u001b[39;00m\n\u001b[0;32m----> 8\u001b[0m mi_numero_negativo \u001b[38;5;241m=\u001b[39m MiEntero(\u001b[38;5;241m-\u001b[39m\u001b[38;5;241m10\u001b[39m)\n",
      "Cell \u001b[0;32mIn[5], line 4\u001b[0m, in \u001b[0;36mMiEntero.__new__\u001b[0;34m(cls, valor)\u001b[0m\n\u001b[1;32m      2\u001b[0m \u001b[38;5;28;01mdef\u001b[39;00m \u001b[38;5;21m__new__\u001b[39m(\u001b[38;5;28mcls\u001b[39m, valor):\n\u001b[1;32m      3\u001b[0m     \u001b[38;5;28;01mif\u001b[39;00m valor \u001b[38;5;241m<\u001b[39m \u001b[38;5;241m0\u001b[39m:\n\u001b[0;32m----> 4\u001b[0m         \u001b[38;5;28;01mraise\u001b[39;00m \u001b[38;5;167;01mValueError\u001b[39;00m(\u001b[38;5;124m\"\u001b[39m\u001b[38;5;124mEl valor debe ser positivo\u001b[39m\u001b[38;5;124m\"\u001b[39m)\n\u001b[1;32m      5\u001b[0m     \u001b[38;5;28;01mreturn\u001b[39;00m \u001b[38;5;28msuper\u001b[39m()\u001b[38;5;241m.\u001b[39m\u001b[38;5;21m__new__\u001b[39m(\u001b[38;5;28mcls\u001b[39m, valor)\n",
      "\u001b[0;31mValueError\u001b[0m: El valor debe ser positivo"
     ]
    }
   ],
   "source": [
    "class MiEntero(int):\n",
    "    def __new__(cls, valor):\n",
    "        if valor < 0:\n",
    "            raise ValueError(\"El valor debe ser positivo\")\n",
    "        return super().__new__(cls, valor)\n",
    "\n",
    "mi_numero = MiEntero(10)  # Esto funcionará\n",
    "# mi_numero_negativo = MiEntero(-10)  # Esto lanzará un ValueError\n"
   ]
  },
  {
   "cell_type": "code",
   "execution_count": 18,
   "metadata": {},
   "outputs": [],
   "source": [
    "# Control de instancias\n",
    "class Ciudadano:\n",
    "    _instancias = {}    \n",
    "\n",
    "    def __init__(self, dni):\n",
    "        self.dni = dni\n",
    "\n",
    "    def __new__(cls, dni):\n",
    "        if dni not in cls._instancias:\n",
    "            instancia = super().__new__(cls)\n",
    "            cls._instancias[dni] = instancia\n",
    "        return cls._instancias[dni]\n"
   ]
  },
  {
   "cell_type": "code",
   "execution_count": 16,
   "metadata": {},
   "outputs": [],
   "source": [
    "a = Ciudadano(\"7747773M\")\n",
    "b = Ciudadano(\"3388833H\")\n",
    "c = Ciudadano(\"7747773M\")\n",
    "\n"
   ]
  },
  {
   "cell_type": "code",
   "execution_count": 17,
   "metadata": {},
   "outputs": [
    {
     "data": {
      "text/plain": [
       "False"
      ]
     },
     "execution_count": 17,
     "metadata": {},
     "output_type": "execute_result"
    }
   ],
   "source": [
    "a is c\n",
    "\n"
   ]
  }
 ],
 "metadata": {
  "kernelspec": {
   "display_name": "base",
   "language": "python",
   "name": "python3"
  },
  "language_info": {
   "codemirror_mode": {
    "name": "ipython",
    "version": 3
   },
   "file_extension": ".py",
   "mimetype": "text/x-python",
   "name": "python",
   "nbconvert_exporter": "python",
   "pygments_lexer": "ipython3",
   "version": "3.12.4"
  }
 },
 "nbformat": 4,
 "nbformat_minor": 2
}

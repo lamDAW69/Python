{
 "cells": [
  {
   "cell_type": "code",
   "execution_count": 2,
   "metadata": {},
   "outputs": [
    {
     "name": "stdout",
     "output_type": "stream",
     "text": [
      "El mes seleccionado es:  Mayo\n"
     ]
    }
   ],
   "source": [
    "meses = [\"Enero\" , \"Febrero\" , \"Marzo\" , \"Abril\" , \"Mayo\" , \"Junio\" , \"Julio\" , \"Agosto\" , \"Septiembre\" , \"Octubre\" , \"Noviembre\" , \"Diciembre\"]\n",
    "mesBuscado = int(input(\"Introduce el mes que deseas buscar (1-12): \"))\n",
    "if mesBuscado >= 1 and mesBuscado <= 12:\n",
    "    print(\"El mes seleccionado es: \", meses[mesBuscado-1])\n"
   ]
  }
 ],
 "metadata": {
  "kernelspec": {
   "display_name": "base",
   "language": "python",
   "name": "python3"
  },
  "language_info": {
   "codemirror_mode": {
    "name": "ipython",
    "version": 3
   },
   "file_extension": ".py",
   "mimetype": "text/x-python",
   "name": "python",
   "nbconvert_exporter": "python",
   "pygments_lexer": "ipython3",
   "version": "3.12.4"
  }
 },
 "nbformat": 4,
 "nbformat_minor": 2
}
